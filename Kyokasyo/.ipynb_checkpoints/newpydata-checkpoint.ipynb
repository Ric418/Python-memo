{
 "cells": [
  {
   "cell_type": "markdown",
   "metadata": {},
   "source": [
    "# 学習用ノート\n",
    "Pythonによるデータ分析の新しい教科書の学習用ノート\n",
    "## Numpy"
   ]
  },
  {
   "cell_type": "code",
   "execution_count": null,
   "metadata": {},
   "outputs": [],
   "source": [
    "#!pip install numpy==1.14.5 #google colaborotory用"
   ]
  },
  {
   "cell_type": "markdown",
   "metadata": {},
   "source": [
    "import numpy as np"
   ]
  },
  {
   "cell_type": "markdown",
   "metadata": {},
   "source": [
    "### 行列の生成"
   ]
  },
  {
   "cell_type": "code",
   "execution_count": 57,
   "metadata": {},
   "outputs": [
    {
     "name": "stdout",
     "output_type": "stream",
     "text": [
      "型は自動的にint64になる: int32\n",
      "型はfloat64になる: float64\n"
     ]
    }
   ],
   "source": [
    "a=np.array([1,2,3]) #1×3の行列を1次元配列によって作成する\n",
    "print(\"型は自動的にint64になる:\",a.dtype)\n",
    "#型を指定したい場合は以下のように指定する\n",
    "sitei=np.array([1,2,3], dtype=np.float64)\n",
    "print(\"型はfloat64になる:\",sitei.dtype)"
   ]
  },
  {
   "cell_type": "code",
   "execution_count": 60,
   "metadata": {},
   "outputs": [
    {
     "name": "stdout",
     "output_type": "stream",
     "text": [
      "[1 2 3]\n",
      "[1. 2. 3.]\n",
      "[1 2 3]\n",
      "[1. 2. 3.]\n"
     ]
    }
   ],
   "source": [
    "print(a)\n",
    "print(sitei)\n",
    "#変換する場合はastype()にて指定する\n",
    "print(sitei.astype(np.int64))"
   ]
  },
  {
   "cell_type": "code",
   "execution_count": 12,
   "metadata": {},
   "outputs": [
    {
     "name": "stdout",
     "output_type": "stream",
     "text": [
      "[1 2 3]\n",
      "type of a is <class 'numpy.ndarray'>\n",
      "shape of a is (3,)\n"
     ]
    }
   ],
   "source": [
    "print(a)\n",
    "print(\"type of a is\",type(a)) \n",
    "print(\"shape of a is\",a.shape) #行列aの形を確認する"
   ]
  },
  {
   "cell_type": "code",
   "execution_count": 13,
   "metadata": {},
   "outputs": [
    {
     "name": "stdout",
     "output_type": "stream",
     "text": [
      "shape of b is (2, 3)\n"
     ]
    }
   ],
   "source": [
    "b=np.array([[1, 2, 3],\n",
    "          [4, 5, 6]]) #二次元配列によって2×3行列を作成する\n",
    "print(\"shape of b is\",b.shape)"
   ]
  },
  {
   "cell_type": "markdown",
   "metadata": {},
   "source": [
    "### 行列の変形 "
   ]
  },
  {
   "cell_type": "code",
   "execution_count": 112,
   "metadata": {},
   "outputs": [
    {
     "name": "stdout",
     "output_type": "stream",
     "text": [
      "[0 1 2 3 4 5]\n"
     ]
    }
   ],
   "source": [
    "c1 = np.array([0, 1, 2, 3, 4, 5])\n",
    "print(c1)"
   ]
  },
  {
   "cell_type": "code",
   "execution_count": 113,
   "metadata": {},
   "outputs": [
    {
     "name": "stdout",
     "output_type": "stream",
     "text": [
      "[[0 1 2]\n",
      " [3 4 5]]\n"
     ]
    }
   ],
   "source": [
    "c2 = c1.reshape((2,3)) #c1を2×3行列に変換する\n",
    "print(c2)"
   ]
  },
  {
   "cell_type": "code",
   "execution_count": 114,
   "metadata": {},
   "outputs": [
    {
     "name": "stdout",
     "output_type": "stream",
     "text": [
      "[0 1 2 3 4 5]\n"
     ]
    }
   ],
   "source": [
    "c3 = c2.ravel() #c2を参照渡しで一次元配列に変換、c3に渡す。\n",
    "print(c3)"
   ]
  },
  {
   "cell_type": "code",
   "execution_count": 115,
   "metadata": {},
   "outputs": [
    {
     "name": "stdout",
     "output_type": "stream",
     "text": [
      "[0 1 2 3 4 5]\n"
     ]
    }
   ],
   "source": [
    "c4 = c2.flatten() #c2のコピーをc4に渡す\n",
    "print(c4)"
   ]
  },
  {
   "cell_type": "markdown",
   "metadata": {},
   "source": [
    "#### 参照渡しについて\n",
    "再代入: 参照渡し->Shallow Copy  \n",
    ".copy(): コピー->Deep Copy  \n",
    ".ravel(): Shallow Copy  \n",
    ".flatten(): Deep Copy  "
   ]
  },
  {
   "cell_type": "code",
   "execution_count": 116,
   "metadata": {},
   "outputs": [
    {
     "name": "stdout",
     "output_type": "stream",
     "text": [
      "[[0 1 2]\n",
      " [3 4 5]]\n",
      "[0 1 2 3 4 5]\n",
      "[0 1 2 3 4 5]\n"
     ]
    }
   ],
   "source": [
    "print(c2)\n",
    "print(c3) #Shallow Copy(.ravel())\n",
    "print(c4) #Deep Copy(.flatten())"
   ]
  },
  {
   "cell_type": "markdown",
   "metadata": {},
   "source": [
    ".flatten()で変換された(Deep Copy)場合"
   ]
  },
  {
   "cell_type": "code",
   "execution_count": 119,
   "metadata": {},
   "outputs": [
    {
     "name": "stdout",
     "output_type": "stream",
     "text": [
      "変更されている [ 0  1 99  3  4  5]\n",
      "コピー元は変更されない\n",
      " [[ 0  1 99]\n",
      " [ 3  4  5]]\n"
     ]
    }
   ],
   "source": [
    "c4[2]=99 #c4の3つ目を変更する。\n",
    "print(\"変更されている\", c4)\n",
    "print(\"コピー元は変更されない\\n\",c2)"
   ]
  },
  {
   "cell_type": "markdown",
   "metadata": {},
   "source": [
    ".ravel()で変換された(Shallow Copy)場合"
   ]
  },
  {
   "cell_type": "code",
   "execution_count": 121,
   "metadata": {},
   "outputs": [
    {
     "name": "stdout",
     "output_type": "stream",
     "text": [
      "変更されている [ 0  1 99  3  4  5]\n",
      "参照元の3つ目も変更される\n",
      " [[ 0  1 99]\n",
      " [ 3  4  5]]\n"
     ]
    }
   ],
   "source": [
    "c3[2]=99 #ｃ3の3つ目を変更する\n",
    "print(\"変更されている\",c3)\n",
    "print(\"参照元の3つ目も変更される\\n\",c2)"
   ]
  },
  {
   "cell_type": "markdown",
   "metadata": {},
   "source": [
    "### インデックス・スライス\n",
    "ここは標準でも使う  \n",
    "ちなみに...  \n",
    "Pythonのスライス: Deep Copy  \n",
    "Numpyのスライス: Shallow Copy **<font color=Red><- 注意**"
   ]
  },
  {
   "cell_type": "code",
   "execution_count": 62,
   "metadata": {},
   "outputs": [
    {
     "data": {
      "text/plain": [
       "array([2, 3])"
      ]
     },
     "execution_count": 62,
     "metadata": {},
     "output_type": "execute_result"
    }
   ],
   "source": [
    "a[1:] #2番目から最後までを指定"
   ]
  },
  {
   "cell_type": "code",
   "execution_count": 67,
   "metadata": {},
   "outputs": [
    {
     "data": {
      "text/plain": [
       "array([1, 2, 3])"
      ]
     },
     "execution_count": 67,
     "metadata": {},
     "output_type": "execute_result"
    }
   ],
   "source": [
    "a[0:3]"
   ]
  },
  {
   "cell_type": "code",
   "execution_count": 79,
   "metadata": {},
   "outputs": [
    {
     "name": "stdout",
     "output_type": "stream",
     "text": [
      "[1 2 3]\n",
      "[4 5 6]\n",
      "4\n",
      "[2 5]\n"
     ]
    }
   ],
   "source": [
    "print(b[0]) #1行目を指定\n",
    "print(b[1]) #2行目を指定\n",
    "print(b[1,0]) #2行目1列目を指定\n",
    "print(b[:,1]) #2列目を指定"
   ]
  },
  {
   "cell_type": "code",
   "execution_count": 102,
   "metadata": {},
   "outputs": [
    {
     "name": "stdout",
     "output_type": "stream",
     "text": [
      "元の行列\n",
      " [[1 2 3]\n",
      " [4 5 6]]\n",
      "\n",
      "1行目の1番目から2番目を指定\n",
      " [4 5]\n",
      "\n",
      "2行目の1つ目と3つ目を指定\n",
      " [4 6]\n",
      "\n",
      "全ての行の2個目と3個目を指定\n",
      " [[2 3]\n",
      " [5 6]]\n",
      "\n",
      "元の行列\n",
      " [[1 2 3]\n",
      " [4 5 6]\n",
      " [7 8 9]]\n",
      "\n",
      "3×3行列の一部を指定\n",
      " [[2 3]\n",
      " [5 6]]\n"
     ]
    }
   ],
   "source": [
    "print(\"元の行列\\n\",b)\n",
    "print(\"\\n1行目の1番目から2番目を指定\\n\",b[1, 0:2]) #個別の範囲指定も可能\n",
    "print(\"\\n2行目の1つ目と3つ目を指定\\n\",b[1, [0,2]]) #2行目の1つ目と3つ目を指定\n",
    "print(\"\\n全ての行の2個目と3個目を指定\\n\",b[:, [1,2]]) #個別の範囲指定も可能\n",
    "three=np.array([[1,2,3],\n",
    "         [4,5,6],\n",
    "         [7,8,9]])\n",
    "print(\"\\n元の行列\\n\",three)\n",
    "print(\"\\n3×3行列の一部を指定\\n\",three[0:2,[1,2]])"
   ]
  },
  {
   "cell_type": "code",
   "execution_count": null,
   "metadata": {},
   "outputs": [],
   "source": []
  }
 ],
 "metadata": {
  "kernelspec": {
   "display_name": "Python 3",
   "language": "python",
   "name": "python3"
  },
  "language_info": {
   "codemirror_mode": {
    "name": "ipython",
    "version": 3
   },
   "file_extension": ".py",
   "mimetype": "text/x-python",
   "name": "python",
   "nbconvert_exporter": "python",
   "pygments_lexer": "ipython3",
   "version": "3.7.1"
  }
 },
 "nbformat": 4,
 "nbformat_minor": 2
}
