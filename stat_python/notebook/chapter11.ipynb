{
 "cells": [
  {
   "cell_type": "markdown",
   "metadata": {},
   "source": [
    "# Chapter11:統計的検定\n",
    "母集団の母数に対し仮定を立てて, その仮説を標本から検証する手法.\n",
    "\n",
    "例として,   \n",
    "内容量平均130gと公表されているフライドポテトが122.02gしか入っていなく\n",
    "14個の買ってきて平均を計算すると128.451となった, これは偶然なのかどうか？\n",
    "\n",
    "これを仮説検定を用いる."
   ]
  },
  {
   "cell_type": "code",
   "execution_count": 2,
   "metadata": {},
   "outputs": [],
   "source": [
    "import numpy as np\n",
    "import pandas as pd\n",
    "from scipy import stats\n",
    "\n",
    "%precision 3\n",
    "%matplotlib inline\n",
    "\n",
    "np.random.seed(1111)"
   ]
  },
  {
   "cell_type": "code",
   "execution_count": 3,
   "metadata": {},
   "outputs": [
    {
     "data": {
      "text/plain": [
       "array([122.02, 131.73, 130.6 , 131.82, 132.05, 126.12, 124.43, 132.89,\n",
       "       122.79, 129.95, 126.14, 134.45, 127.64, 125.68])"
      ]
     },
     "execution_count": 3,
     "metadata": {},
     "output_type": "execute_result"
    }
   ],
   "source": [
    "df = pd.read_csv('../data/ch11_potato.csv')\n",
    "sample = np.array(df['重さ'])\n",
    "sample"
   ]
  },
  {
   "cell_type": "code",
   "execution_count": 4,
   "metadata": {},
   "outputs": [
    {
     "data": {
      "text/plain": [
       "128.4507142857143"
      ]
     },
     "execution_count": 4,
     "metadata": {},
     "output_type": "execute_result"
    }
   ],
   "source": [
    "s_mean = np.mean(sample)\n",
    "s_mean"
   ]
  },
  {
   "cell_type": "markdown",
   "metadata": {},
   "source": [
    "## 11.1 統計的仮説検定とは\n",
    "母集団の母数に関する二つの仮説を立て標本から計算される統計量からどちらの仮説が正しいか判断する統計学的な枠組みである. \n",
    "\n",
    "### 11.1.1:統計的仮説検定の基本\n",
    "確かめたいことは母平均が130gより少ないかどうかの所.  \n",
    "前提として母分散は9と分かっているものとする.  \n",
    "\n",
    "ここでは  \n",
    "「母平均は130g」という仮説を立てる14個のの標本は  \n",
    "$$\n",
    "X_1,X_2,...,X_{14} \\sim^{iid}N(130,9)\n",
    "$$\n",
    "に従い標本平均$\\overline{X}\\sim N(130, 9/14)$に従う事になる.  \n",
    "ここで$\\overline{X}$が$P(\\overline{X} \\leq x)=0.05$を満たすxを考える."
   ]
  },
  {
   "cell_type": "code",
   "execution_count": 6,
   "metadata": {},
   "outputs": [
    {
     "name": "stdout",
     "output_type": "stream",
     "text": [
      "128.68118313069039\n",
      "127.93474198413732\n"
     ]
    }
   ],
   "source": [
    "rv=stats.norm(130, np.sqrt(9/14))\n",
    "print(rv.isf(0.95))\n",
    "print(rv.isf(0.995))"
   ]
  },
  {
   "cell_type": "markdown",
   "metadata": {},
   "source": [
    "$\\overline{X}$が$P(\\overline{X} \\leq 128.681)=0.05$という結果になり\n",
    "123.681以下になる確率は5%の確率でしか発生しないので例でいうところの14個の標本平均が128.451になることは相当稀である.\n",
    "このことから「母平均が130gより少ない」という結論をづける.というのが仮説検定の流れである.   \n",
    "\n",
    "仮説検定では母数に関する2つの仮説, **帰無仮説**と**対立仮説**を使う.   \n",
    "\n",
    "- 対立仮説$H_0$：主張したい仮説「差がある」, 「効果がある」\n",
    "- 帰無仮説$H_1$：主張したい仮説と逆「差がない」, 「効果がない」\n",
    "\n",
    "このどちらかを検証するために標本からの統計量を計算して仮説検定を行う.  \n",
    "その結果得られるのが以下の二つ\n",
    "\n",
    "- 帰無仮説を棄却する：帰無仮説が正しくないという**結論**\n",
    "- 帰無仮説を採択する：帰無仮説が**正しいとは言えない**という**保留**の結論\n",
    "\n",
    "それらの判断は以上の例でも検証した様に標本からの統計量が珍しいかどうかできまる.  \n",
    "\n",
    "- 珍しい値が得られた：帰無仮説を棄却する → **有意である**\n",
    "- 珍しい値が得られない：帰無仮説を採択する\n",
    "\n",
    "これを最初の例に当てはめてみると  \n",
    "- 対立仮説$H_0$：「母平均は130gより少ない」\n",
    "- 帰無仮説$H_1$：「母平均は130g」\n",
    "\n",
    "結論は\n",
    "- 帰無仮説を棄却する：「母平均は130gより少ない」という**結論**\n",
    "- 帰無仮説を採択する：「母平均は130g」が**正しいとは言えない**という**保留**の結論\n",
    "\n",
    "128.451gはとなるのは有意である.  \n",
    "つまり128.681より標本平均が小さくなるのは有意で**棄却域**と言われる範囲である.  \n",
    "逆に128.681以上は**採択域**と呼ばれる.  \n",
    "\n",
    "仮説検定では棄却域に入る確率を決めてから行う. この確率を**有意水準**といいこの閾値のことを**臨海値**という.  \n",
    "また検定に使われる検定量を**検定統計量**というという. \n",
    "\n",
    "最初の例に当てはめると\n",
    "有意水準は5%, 臨海値が128.681となっていた.  \n",
    "検定統計量の左側の領域にも名前がついており**p値**という.  \n",
    "\n",
    "標本平均$\\overline{X}$は$N(130, 9/14)$に従うので, 検定統計量に標本平均$\\overline{X}$を用いたが, ここでは一般化して説明するため  \n",
    "標準化$Z=(\\overline{X}-130/\\sqrt{\\frac{9}{14}})$を用いる. このことで上側100α%点を$z_α$で表すことができ, 臨界値を  \n",
    "$$\n",
    "P((\\overline{X}-130)/\\sqrt{\\frac{9}{14}} \\leq x)=0.05\n",
    "$$\n",
    "\n",
    "これを満たすx, つまり$x=z_{0.95}$と求めることができる.  \n",
    "したがって\n",
    "\n",
    "- $(\\overline{X}-130)/\\sqrt{\\frac{9}{14}} \\lt z_{0.95}$であれば帰無仮説を棄却\n",
    "- $(\\overline{X}-130)/\\sqrt{\\frac{9}{14}} \\geq z_{0.95}$であれば帰無仮説を採択\n",
    "\n",
    "これらを計算してみる. まずは検定統計量から"
   ]
  },
  {
   "cell_type": "code",
   "execution_count": 7,
   "metadata": {},
   "outputs": [
    {
     "data": {
      "text/plain": [
       "-1.932298779026813"
      ]
     },
     "execution_count": 7,
     "metadata": {},
     "output_type": "execute_result"
    }
   ],
   "source": [
    "z=(s_mean - 130) / np.sqrt(9/14)\n",
    "z #検定統計量"
   ]
  },
  {
   "cell_type": "code",
   "execution_count": 11,
   "metadata": {},
   "outputs": [],
   "source": [
    "rv = stats.norm()\n",
    "z_095=rv.isf(0.95) #臨界値"
   ]
  },
  {
   "cell_type": "code",
   "execution_count": 13,
   "metadata": {},
   "outputs": [
    {
     "name": "stdout",
     "output_type": "stream",
     "text": [
      "True\n",
      "False\n"
     ]
    }
   ],
   "source": [
    "print(z<z_095) #帰無仮説を棄却\n",
    "print(z>=z_095) #採択"
   ]
  },
  {
   "cell_type": "markdown",
   "metadata": {},
   "source": [
    "統計検定量を標本平均とした時と結果は同じ, p値を使ったものも試してみる.   "
   ]
  },
  {
   "cell_type": "code",
   "execution_count": 16,
   "metadata": {},
   "outputs": [
    {
     "name": "stdout",
     "output_type": "stream",
     "text": [
      "True\n"
     ]
    }
   ],
   "source": [
    "p_value = rv.cdf(z) #p値は累積分布関数を求めることができる.\n",
    "print(p_value < 0.05) #有意水準より小さいか？小さければ棄却"
   ]
  },
  {
   "cell_type": "markdown",
   "metadata": {},
   "source": [
    "### 11.1.2:片側検定と両側検定\n",
    "前の例では「母平均は130gより少ない」という検定を行ったが  \n",
    "「母平均は130gではない」という対立仮説で行うことも可能である.  \n",
    "つまり「母平均は130gより多い」という仮説検定も行うことになる.  \n",
    "この様な検定を**両側検定**といい, 片方の検定だけ行うものを**片側検定**という.  \n",
    "\n",
    "両側検定では有意水準は両側α/2となる, 有意水準5%の両側検定を行う.  \n",
    "検定統計量は片側検定の時と変わらない.  "
   ]
  },
  {
   "cell_type": "code",
   "execution_count": 17,
   "metadata": {},
   "outputs": [
    {
     "data": {
      "text/plain": [
       "-1.932298779026813"
      ]
     },
     "execution_count": 17,
     "metadata": {},
     "output_type": "execute_result"
    }
   ],
   "source": [
    "z"
   ]
  },
  {
   "cell_type": "code",
   "execution_count": 21,
   "metadata": {},
   "outputs": [
    {
     "data": {
      "text/plain": [
       "(True, True)"
      ]
     },
     "execution_count": 21,
     "metadata": {},
     "output_type": "execute_result"
    }
   ],
   "source": [
    "# 両側検定なので臨界値は標準正規分布の95%区間によって求めることができる\n",
    "rv=stats.norm()\n",
    "rv.interval(0.95)[0]<z, rv.interval(0.95)[1]>z"
   ]
  },
  {
   "cell_type": "markdown",
   "metadata": {},
   "source": [
    "採択域に入っている, 片側検定の方が棄却しやすいということは押さえておく事.  \n",
    "次はp値について両側検定のp値は, 上側と下側の両方の面積を考える必要があるため, 累積密度関数の値を二倍する."
   ]
  },
  {
   "cell_type": "code",
   "execution_count": 24,
   "metadata": {},
   "outputs": [
    {
     "data": {
      "text/plain": [
       "True"
      ]
     },
     "execution_count": 24,
     "metadata": {},
     "output_type": "execute_result"
    }
   ],
   "source": [
    "rv.cdf(z)*2 > 0.05 #棄却されない"
   ]
  },
  {
   "cell_type": "markdown",
   "metadata": {},
   "source": [
    "### 11.1.3:仮説検定における2つの過誤\n",
    "仮説検定は標本を用いて確率的に結論を導いているため, 判断を謝ることがわかる.  \n",
    "以下の二つの過誤がありうる.  \n",
    "\n",
    "- 第一種の過誤：帰無仮説が正しい時に, 帰無仮説を棄却してしまう過誤 → 誤検出\n",
    "- 第二種の過誤：対立仮説が正しい時に, 帰無仮説を採択してしまう過誤 → 検出漏れ\n",
    "\n",
    "最初の例でみてみる.  \n",
    "#### 第一種の過誤\n",
    "「母平均が130gである」にも関わらず「母平均が130gより少ない」という結論を出してしまうという事.  \n",
    "この様な例が起きる割合で発生してしまうかみてみる.実際に「平均は130g」の状況を考えているので,  \n",
    "母集団の確率分布はN(130,9)である. "
   ]
  },
  {
   "cell_type": "code",
   "execution_count": 25,
   "metadata": {},
   "outputs": [],
   "source": [
    "rv=stats.norm(130, 3)"
   ]
  },
  {
   "cell_type": "markdown",
   "metadata": {},
   "source": [
    "この母集団から14個の標本を取り出し仮説検定を行うという作業を10000回行い\n",
    ", 第一種の過誤を起こす割合を導出してみる.  "
   ]
  },
  {
   "cell_type": "code",
   "execution_count": 27,
   "metadata": {},
   "outputs": [
    {
     "data": {
      "text/plain": [
       "0.052"
      ]
     },
     "execution_count": 27,
     "metadata": {},
     "output_type": "execute_result"
    }
   ],
   "source": [
    "c=stats.norm().isf(.95)\n",
    "n_samples=10000\n",
    "cnt=0\n",
    "for _ in range(n_samples):\n",
    "    sample_ = np.round(rv.rvs(14),2)\n",
    "    s_mean_ = np.mean(sample_)\n",
    "    z = (s_mean_-130)/np.sqrt(9/14)\n",
    "    if z < c :\n",
    "        cnt += 1\n",
    "cnt/n_samples"
   ]
  },
  {
   "cell_type": "markdown",
   "metadata": {},
   "source": [
    "大体5%の割合で誤検出してしまう様である.  \n",
    "誤検出する確率を危険率と呼ばれ, 記号にはαが使われる.  \n",
    "危険率は有意水準と一致する, つまりこの危険率を1%にしたければ有意水準を1%にする. \n",
    "\n",
    "#### 第二種の過誤\n",
    "今回は「母平均が130gより少ない」にも関わらず「母平均は130gよりも少ない」という結論を出せないという事.  \n",
    "この確率が幾つであるかを確認する. ここで母平均がが128gであるとする, つまり母集団の確率分布はN(128, 9)である."
   ]
  },
  {
   "cell_type": "code",
   "execution_count": 41,
   "metadata": {},
   "outputs": [],
   "source": [
    "rv=stats.norm(128,3)\n",
    "c=stats.norm().isf(0.95)\n",
    "n_samples=10000\n",
    "cnt=0\n",
    "for _ in range(n_samples):\n",
    "    sample_=np.round(rv.rvs(14),2)\n",
    "    s_mean_=np.mean(sample_)\n",
    "    z=(s_mean_-130)/np.sqrt(9/14)\n",
    "    if z>=c:\n",
    "        cnt+=1"
   ]
  },
  {
   "cell_type": "code",
   "execution_count": 42,
   "metadata": {},
   "outputs": [
    {
     "name": "stdout",
     "output_type": "stream",
     "text": [
      "0.1954 0.8046\n"
     ]
    }
   ],
   "source": [
    "print(cnt/n_samples, 1.0-cnt/n_samples)"
   ]
  },
  {
   "cell_type": "markdown",
   "metadata": {},
   "source": [
    "大体20%くらいの検出漏れが出てくる, ここでいう80%は**検出力**これは母平均が120gの時の方が検出力は高くなる.  \n",
    "この検出漏れにはβが使われこのβは母平均に依存するので分析者が制御できない要素である.  \n",
    "\n",
    "すなわち第一種は制御できて第二種は制御できないという非対称性がある. \n",
    "\n",
    "## 11.2:基本的な仮説検定\n",
    "この節では正規分布の母平均や母分散に関する基本的な仮説検定をみていく.  \n",
    "\n",
    "### 11.2.1:正規分布の母平均の検定(母分散既知)\n",
    "この検定では母平均がある値$\\mu_0$ではないと主張する検定である.  \n",
    "今回は母分散が分かっているので最も単純な状況設定である. 最初の例で言うと母平均が130g出ないと言う主張を検証する.  \n",
    "\n",
    "今回の仮説検定は次の様になる."
   ]
  },
  {
   "cell_type": "code",
   "execution_count": 47,
   "metadata": {},
   "outputs": [],
   "source": [
    "def pmean_test(sample, mean0, p_var, alpha=0.05):\n",
    "    s_mean = np.mean(sample)\n",
    "    n = len(sample)\n",
    "    rv = stats.norm()\n",
    "    interval = rv.interval(1-alpha)\n",
    "\n",
    "    z = (s_mean - mean0) / np.sqrt(p_var/n)\n",
    "    if interval[0] <= z <= interval[1]:\n",
    "        print('帰無仮説を採択')\n",
    "    else:\n",
    "        print('帰無仮説を棄却')\n",
    "\n",
    "    if z < 0:\n",
    "        p = rv.cdf(z) * 2\n",
    "    else:\n",
    "        p = (1 - rv.cdf(z)) * 2\n",
    "    print(f'p値は{p:.3f}')"
   ]
  },
  {
   "cell_type": "code",
   "execution_count": 48,
   "metadata": {},
   "outputs": [
    {
     "name": "stdout",
     "output_type": "stream",
     "text": [
      "帰無仮説を採択\n",
      "p値は0.053\n"
     ]
    }
   ],
   "source": [
    "pmean_test(sample,130,9)"
   ]
  },
  {
   "cell_type": "markdown",
   "metadata": {},
   "source": [
    "両側検定の例で計算した結果と同じになる.\n",
    "\n",
    "### 11.2.2:正規分布の母分散の検定\n",
    "母分散の検定は母分散がある値$\\sigma_0^2$ではない事のを主張するための検定である.  \n",
    "統計検定量に$Y=(n-1)s^2/\\sigma_0^2$を用いて, カイ二乗分布に従う事を利用する."
   ]
  },
  {
   "cell_type": "code",
   "execution_count": 49,
   "metadata": {},
   "outputs": [],
   "source": [
    "def pvar_test(sample, var0, alpha=0.05):\n",
    "    u_var = np.var(sample, ddof=1)\n",
    "    n = len(sample)\n",
    "    rv = stats.chi2(df=n-1)\n",
    "    interval = rv.interval(1-alpha)\n",
    "    \n",
    "    y = (n-1) * u_var / var0\n",
    "    if interval[0] <= y <= interval[1]:\n",
    "        print('帰無仮説を採択')\n",
    "    else:\n",
    "        print('帰無仮説を棄却')\n",
    "\n",
    "    if y < rv.isf(0.5):\n",
    "        p = rv.cdf(y) * 2\n",
    "    else:\n",
    "        p = (1 - rv.cdf(y)) * 2\n",
    "    print(f'p値は{p:.3f}')"
   ]
  },
  {
   "cell_type": "code",
   "execution_count": 50,
   "metadata": {},
   "outputs": [
    {
     "name": "stdout",
     "output_type": "stream",
     "text": [
      "帰無仮説を採択\n",
      "p値は0.085\n"
     ]
    }
   ],
   "source": [
    "#最初の例での標本データを実行してみる, ここでは分散を9とする\n",
    "pvar_test(sample,9)"
   ]
  },
  {
   "cell_type": "markdown",
   "metadata": {},
   "source": [
    "### 11.2.3:正規分布の母平均の検定(母分散未知)\n",
    "この場合の母平均の検定は**1標本のt検定**とも呼ばれ,  \n",
    "**t検定統計量**と呼ばれる\n",
    "$$\n",
    "t=(\\overline{X}-\\mu_0)/\\sqrt{\\frac{s^2}{n}}\n",
    "$$\n",
    "を用いる. "
   ]
  },
  {
   "cell_type": "code",
   "execution_count": 51,
   "metadata": {},
   "outputs": [],
   "source": [
    "def pmean_test(sample, mean0, alpha=0.05):\n",
    "    s_mean = np.mean(sample)\n",
    "    u_var = np.var(sample, ddof=1)\n",
    "    n = len(sample)\n",
    "    rv = stats.t(df=n-1)\n",
    "    interval = rv.interval(1-alpha)\n",
    "\n",
    "    t = (s_mean - mean0) / np.sqrt(u_var/n)\n",
    "    if interval[0] <= t <= interval[1]:\n",
    "        print('帰無仮説を採択')\n",
    "    else:\n",
    "        print('帰無仮説を棄却')\n",
    "\n",
    "    if t < 0:\n",
    "        p = rv.cdf(t) * 2\n",
    "    else:\n",
    "        p = (1 - rv.cdf(t)) * 2\n",
    "    print(f'p値は{p:.3f}')"
   ]
  },
  {
   "cell_type": "code",
   "execution_count": 55,
   "metadata": {},
   "outputs": [
    {
     "name": "stdout",
     "output_type": "stream",
     "text": [
      "帰無仮説を採択\n",
      "p値は0.169\n"
     ]
    },
    {
     "data": {
      "text/plain": [
       "(-1.4551960206404198, 0.16933464230414275)"
      ]
     },
     "execution_count": 55,
     "metadata": {},
     "output_type": "execute_result"
    }
   ],
   "source": [
    "pmean_test(sample,130)\n",
    "#scipyでもt検定は可能\n",
    "t,p=stats.ttest_1samp(sample,130)\n",
    "t,p"
   ]
  },
  {
   "cell_type": "markdown",
   "metadata": {},
   "source": [
    "## 11.3:2標本問題に関する仮説検定\n",
    "ここまでは1つの母集団に関する検定を考えてきた.  \n",
    "ここから二つの母集団に関する問題, **2標本問題**を考えていく.  \n",
    "2標本間の様々な関係性を調べることができる.  \n",
    "\n",
    "2標本の代表値の間に差があるかの検定を扱う.  \n",
    "代表値の差の検定は母集団に正規分布の仮定できるか, データに対応があるかで4つに分類できる.  \n",
    "それぞれで検定の仕方が異なる.(教科書参照)\n",
    "\n",
    "ここでデータに対応があるとは2つのデータが同一の個体を異なる条件で測定したデータになっていることを言う.  \n",
    "e.g.\n",
    "対応あり：薬剤投与した前後の同個体の値を標本として用いる場合\n",
    "対応なし：A組とB組の生徒の点数を標本として用いる場合\n",
    "\n",
    "### 11.3.1:対応のあるt検定\n",
    "筋トレ前後で集中力に差があるかを20人に試す."
   ]
  },
  {
   "cell_type": "code",
   "execution_count": 56,
   "metadata": {},
   "outputs": [
    {
     "name": "stdout",
     "output_type": "stream",
     "text": [
      "(20, 2)\n"
     ]
    },
    {
     "data": {
      "text/html": [
       "<div>\n",
       "<style scoped>\n",
       "    .dataframe tbody tr th:only-of-type {\n",
       "        vertical-align: middle;\n",
       "    }\n",
       "\n",
       "    .dataframe tbody tr th {\n",
       "        vertical-align: top;\n",
       "    }\n",
       "\n",
       "    .dataframe thead th {\n",
       "        text-align: right;\n",
       "    }\n",
       "</style>\n",
       "<table border=\"1\" class=\"dataframe\">\n",
       "  <thead>\n",
       "    <tr style=\"text-align: right;\">\n",
       "      <th></th>\n",
       "      <th>前</th>\n",
       "      <th>後</th>\n",
       "    </tr>\n",
       "  </thead>\n",
       "  <tbody>\n",
       "    <tr>\n",
       "      <th>0</th>\n",
       "      <td>59</td>\n",
       "      <td>41</td>\n",
       "    </tr>\n",
       "    <tr>\n",
       "      <th>1</th>\n",
       "      <td>52</td>\n",
       "      <td>63</td>\n",
       "    </tr>\n",
       "    <tr>\n",
       "      <th>2</th>\n",
       "      <td>55</td>\n",
       "      <td>68</td>\n",
       "    </tr>\n",
       "    <tr>\n",
       "      <th>3</th>\n",
       "      <td>61</td>\n",
       "      <td>59</td>\n",
       "    </tr>\n",
       "    <tr>\n",
       "      <th>4</th>\n",
       "      <td>59</td>\n",
       "      <td>84</td>\n",
       "    </tr>\n",
       "  </tbody>\n",
       "</table>\n",
       "</div>"
      ],
      "text/plain": [
       "    前   後\n",
       "0  59  41\n",
       "1  52  63\n",
       "2  55  68\n",
       "3  61  59\n",
       "4  59  84"
      ]
     },
     "execution_count": 56,
     "metadata": {},
     "output_type": "execute_result"
    }
   ],
   "source": [
    "training_rel = pd.read_csv('../data/ch11_training_rel.csv')\n",
    "print(training_rel.shape)\n",
    "training_rel.head()"
   ]
  },
  {
   "cell_type": "markdown",
   "metadata": {},
   "source": [
    "前後の平均点を比較すれば良さそう\n",
    "\n",
    "- 帰無仮説：$\\mu_{after}-\\mu_{bfore} = 0$\n",
    "- 対立仮説：$\\mu_{after}-\\mu_{bfore} \\neq 0$\n",
    "\n",
    "今回はデータに対応があるので個々のデータで差を考えることができる."
   ]
  },
  {
   "cell_type": "code",
   "execution_count": 57,
   "metadata": {},
   "outputs": [
    {
     "data": {
      "text/html": [
       "<div>\n",
       "<style scoped>\n",
       "    .dataframe tbody tr th:only-of-type {\n",
       "        vertical-align: middle;\n",
       "    }\n",
       "\n",
       "    .dataframe tbody tr th {\n",
       "        vertical-align: top;\n",
       "    }\n",
       "\n",
       "    .dataframe thead th {\n",
       "        text-align: right;\n",
       "    }\n",
       "</style>\n",
       "<table border=\"1\" class=\"dataframe\">\n",
       "  <thead>\n",
       "    <tr style=\"text-align: right;\">\n",
       "      <th></th>\n",
       "      <th>前</th>\n",
       "      <th>後</th>\n",
       "      <th>差</th>\n",
       "    </tr>\n",
       "  </thead>\n",
       "  <tbody>\n",
       "    <tr>\n",
       "      <th>0</th>\n",
       "      <td>59</td>\n",
       "      <td>41</td>\n",
       "      <td>-18</td>\n",
       "    </tr>\n",
       "    <tr>\n",
       "      <th>1</th>\n",
       "      <td>52</td>\n",
       "      <td>63</td>\n",
       "      <td>11</td>\n",
       "    </tr>\n",
       "    <tr>\n",
       "      <th>2</th>\n",
       "      <td>55</td>\n",
       "      <td>68</td>\n",
       "      <td>13</td>\n",
       "    </tr>\n",
       "    <tr>\n",
       "      <th>3</th>\n",
       "      <td>61</td>\n",
       "      <td>59</td>\n",
       "      <td>-2</td>\n",
       "    </tr>\n",
       "    <tr>\n",
       "      <th>4</th>\n",
       "      <td>59</td>\n",
       "      <td>84</td>\n",
       "      <td>25</td>\n",
       "    </tr>\n",
       "  </tbody>\n",
       "</table>\n",
       "</div>"
      ],
      "text/plain": [
       "    前   後   差\n",
       "0  59  41 -18\n",
       "1  52  63  11\n",
       "2  55  68  13\n",
       "3  61  59  -2\n",
       "4  59  84  25"
      ]
     },
     "execution_count": 57,
     "metadata": {},
     "output_type": "execute_result"
    }
   ],
   "source": [
    "training_rel['差'] = training_rel['後'] - training_rel['前']\n",
    "training_rel.head()"
   ]
  },
  {
   "cell_type": "markdown",
   "metadata": {},
   "source": [
    "もし筋トレに集中力に影響させる要因がないならば差の平均は0になるはずこれを差の平均を$\\mu_{diff}$として\n",
    "\n",
    "- 帰無仮説：$\\mu_{diff}=0$\n",
    "- 対立仮説：$\\mu_{diff}\\neq0$\n",
    "\n",
    "と言い換えることができる.  \n",
    "さらに差を計算している元の分布が正規分布にしたがっているので差も正規分布にしたがっていると仮定できるので,  \n",
    "1標本のt検定に帰着できる."
   ]
  },
  {
   "cell_type": "code",
   "execution_count": 58,
   "metadata": {},
   "outputs": [
    {
     "data": {
      "text/plain": [
       "0.04004419061842953"
      ]
     },
     "execution_count": 58,
     "metadata": {},
     "output_type": "execute_result"
    }
   ],
   "source": [
    "t, p = stats.ttest_1samp(training_rel['差'], 0)\n",
    "p"
   ]
  },
  {
   "cell_type": "markdown",
   "metadata": {},
   "source": [
    "有意水準を下回ったので帰無仮説は棄却される.  \n",
    "scipyでは前後の値を用いてそのまま検定できる関数もあるのでそれの\n",
    "方が便利かも"
   ]
  },
  {
   "cell_type": "code",
   "execution_count": 59,
   "metadata": {},
   "outputs": [
    {
     "data": {
      "text/plain": [
       "0.04004419061842953"
      ]
     },
     "execution_count": 59,
     "metadata": {},
     "output_type": "execute_result"
    }
   ],
   "source": [
    "t, p = stats.ttest_rel(training_rel['後'], training_rel['前'])\n",
    "p"
   ]
  },
  {
   "cell_type": "markdown",
   "metadata": {},
   "source": [
    "### 11.3.2:対応のないt検定\n",
    "2標本に正規分布を仮定できるがデータに対応がないもの.  \n",
    "A組とB組の筋トレ前後の集中力について"
   ]
  },
  {
   "cell_type": "code",
   "execution_count": 60,
   "metadata": {},
   "outputs": [
    {
     "name": "stdout",
     "output_type": "stream",
     "text": [
      "(20, 2)\n"
     ]
    },
    {
     "data": {
      "text/html": [
       "<div>\n",
       "<style scoped>\n",
       "    .dataframe tbody tr th:only-of-type {\n",
       "        vertical-align: middle;\n",
       "    }\n",
       "\n",
       "    .dataframe tbody tr th {\n",
       "        vertical-align: top;\n",
       "    }\n",
       "\n",
       "    .dataframe thead th {\n",
       "        text-align: right;\n",
       "    }\n",
       "</style>\n",
       "<table border=\"1\" class=\"dataframe\">\n",
       "  <thead>\n",
       "    <tr style=\"text-align: right;\">\n",
       "      <th></th>\n",
       "      <th>A</th>\n",
       "      <th>B</th>\n",
       "    </tr>\n",
       "  </thead>\n",
       "  <tbody>\n",
       "    <tr>\n",
       "      <th>0</th>\n",
       "      <td>47</td>\n",
       "      <td>49</td>\n",
       "    </tr>\n",
       "    <tr>\n",
       "      <th>1</th>\n",
       "      <td>50</td>\n",
       "      <td>52</td>\n",
       "    </tr>\n",
       "    <tr>\n",
       "      <th>2</th>\n",
       "      <td>37</td>\n",
       "      <td>54</td>\n",
       "    </tr>\n",
       "    <tr>\n",
       "      <th>3</th>\n",
       "      <td>60</td>\n",
       "      <td>48</td>\n",
       "    </tr>\n",
       "    <tr>\n",
       "      <th>4</th>\n",
       "      <td>39</td>\n",
       "      <td>51</td>\n",
       "    </tr>\n",
       "  </tbody>\n",
       "</table>\n",
       "</div>"
      ],
      "text/plain": [
       "    A   B\n",
       "0  47  49\n",
       "1  50  52\n",
       "2  37  54\n",
       "3  60  48\n",
       "4  39  51"
      ]
     },
     "execution_count": 60,
     "metadata": {},
     "output_type": "execute_result"
    }
   ],
   "source": [
    "training_ind = pd.read_csv('../data/ch11_training_ind.csv')\n",
    "print(training_ind.shape)\n",
    "training_ind.head()"
   ]
  },
  {
   "cell_type": "markdown",
   "metadata": {},
   "source": [
    "今回は対応のないデータなので差をとっても意味がない\n",
    "今回は検定統計量には以下のtを用いる.  \n",
    "\n",
    "$$\n",
    "t=\\frac{((\\overline{X}-\\overline{Y})-(\\mu_1-\\mu_2))}{\\sqrt{\\frac{s_1^2}{n_1}+\\frac{s_2^2}{n_2}}}\n",
    "$$\n",
    "\n",
    "このtは自由度が\n",
    "\n",
    "$$\n",
    "\\frac{\\left( \\frac{s_1^2}{n_1} + \\frac{s_2^2}{n_2} \\right)^2}\n",
    "{\\frac{ \\left( \\frac{s_1^2}{n_1} \\right)^2}{n_1 - 1} + \n",
    "\\frac{\\left( \\frac{s_2^2}{n_2}\\right)^2}{n_2 - 1}}\n",
    "$$\n",
    "\n",
    "のt分布に従う. これをウェルチの方法という.  \n",
    "stats.ttest_indで計算できる."
   ]
  },
  {
   "cell_type": "code",
   "execution_count": 64,
   "metadata": {},
   "outputs": [
    {
     "data": {
      "text/plain": [
       "False"
      ]
     },
     "execution_count": 64,
     "metadata": {},
     "output_type": "execute_result"
    }
   ],
   "source": [
    "t, p = stats.ttest_ind(training_ind['A'], training_ind['B'],\n",
    "                       equal_var=False) #Falseとすることでウェルチの方法となる.\n",
    "p<0.05 #Trueなら棄却, Flaseなら採択"
   ]
  },
  {
   "cell_type": "markdown",
   "metadata": {},
   "source": [
    "有意な差あるとは言えないっぽい\n",
    "\n",
    "### ウィルスコクソンの符号付き順位検定\n",
    "データに対応があり差に正規分布を仮定できない場合の**中央値の差**の検定である.  \n",
    "先ほどのデータの6行を用いていく.  "
   ]
  },
  {
   "cell_type": "code",
   "execution_count": 65,
   "metadata": {},
   "outputs": [
    {
     "data": {
      "text/html": [
       "<div>\n",
       "<style scoped>\n",
       "    .dataframe tbody tr th:only-of-type {\n",
       "        vertical-align: middle;\n",
       "    }\n",
       "\n",
       "    .dataframe tbody tr th {\n",
       "        vertical-align: top;\n",
       "    }\n",
       "\n",
       "    .dataframe thead th {\n",
       "        text-align: right;\n",
       "    }\n",
       "</style>\n",
       "<table border=\"1\" class=\"dataframe\">\n",
       "  <thead>\n",
       "    <tr style=\"text-align: right;\">\n",
       "      <th></th>\n",
       "      <th>前</th>\n",
       "      <th>後</th>\n",
       "    </tr>\n",
       "  </thead>\n",
       "  <tbody>\n",
       "    <tr>\n",
       "      <th>0</th>\n",
       "      <td>59</td>\n",
       "      <td>41</td>\n",
       "    </tr>\n",
       "    <tr>\n",
       "      <th>1</th>\n",
       "      <td>52</td>\n",
       "      <td>63</td>\n",
       "    </tr>\n",
       "    <tr>\n",
       "      <th>2</th>\n",
       "      <td>55</td>\n",
       "      <td>68</td>\n",
       "    </tr>\n",
       "    <tr>\n",
       "      <th>3</th>\n",
       "      <td>61</td>\n",
       "      <td>59</td>\n",
       "    </tr>\n",
       "    <tr>\n",
       "      <th>4</th>\n",
       "      <td>59</td>\n",
       "      <td>84</td>\n",
       "    </tr>\n",
       "    <tr>\n",
       "      <th>5</th>\n",
       "      <td>45</td>\n",
       "      <td>37</td>\n",
       "    </tr>\n",
       "  </tbody>\n",
       "</table>\n",
       "</div>"
      ],
      "text/plain": [
       "    前   後\n",
       "0  59  41\n",
       "1  52  63\n",
       "2  55  68\n",
       "3  61  59\n",
       "4  59  84\n",
       "5  45  37"
      ]
     },
     "execution_count": 65,
     "metadata": {},
     "output_type": "execute_result"
    }
   ],
   "source": [
    "training_rel = pd.read_csv('../data/ch11_training_rel.csv')\n",
    "toy_df = training_rel[:6].copy()\n",
    "toy_df"
   ]
  },
  {
   "cell_type": "markdown",
   "metadata": {},
   "source": [
    "対応のあるデータなので差に注目していく."
   ]
  },
  {
   "cell_type": "code",
   "execution_count": 66,
   "metadata": {},
   "outputs": [
    {
     "data": {
      "text/html": [
       "<div>\n",
       "<style scoped>\n",
       "    .dataframe tbody tr th:only-of-type {\n",
       "        vertical-align: middle;\n",
       "    }\n",
       "\n",
       "    .dataframe tbody tr th {\n",
       "        vertical-align: top;\n",
       "    }\n",
       "\n",
       "    .dataframe thead th {\n",
       "        text-align: right;\n",
       "    }\n",
       "</style>\n",
       "<table border=\"1\" class=\"dataframe\">\n",
       "  <thead>\n",
       "    <tr style=\"text-align: right;\">\n",
       "      <th></th>\n",
       "      <th>前</th>\n",
       "      <th>後</th>\n",
       "      <th>差</th>\n",
       "    </tr>\n",
       "  </thead>\n",
       "  <tbody>\n",
       "    <tr>\n",
       "      <th>0</th>\n",
       "      <td>59</td>\n",
       "      <td>41</td>\n",
       "      <td>-18</td>\n",
       "    </tr>\n",
       "    <tr>\n",
       "      <th>1</th>\n",
       "      <td>52</td>\n",
       "      <td>63</td>\n",
       "      <td>11</td>\n",
       "    </tr>\n",
       "    <tr>\n",
       "      <th>2</th>\n",
       "      <td>55</td>\n",
       "      <td>68</td>\n",
       "      <td>13</td>\n",
       "    </tr>\n",
       "    <tr>\n",
       "      <th>3</th>\n",
       "      <td>61</td>\n",
       "      <td>59</td>\n",
       "      <td>-2</td>\n",
       "    </tr>\n",
       "    <tr>\n",
       "      <th>4</th>\n",
       "      <td>59</td>\n",
       "      <td>84</td>\n",
       "      <td>25</td>\n",
       "    </tr>\n",
       "    <tr>\n",
       "      <th>5</th>\n",
       "      <td>45</td>\n",
       "      <td>37</td>\n",
       "      <td>-8</td>\n",
       "    </tr>\n",
       "  </tbody>\n",
       "</table>\n",
       "</div>"
      ],
      "text/plain": [
       "    前   後   差\n",
       "0  59  41 -18\n",
       "1  52  63  11\n",
       "2  55  68  13\n",
       "3  61  59  -2\n",
       "4  59  84  25\n",
       "5  45  37  -8"
      ]
     },
     "execution_count": 66,
     "metadata": {},
     "output_type": "execute_result"
    }
   ],
   "source": [
    "diff = toy_df['後'] - toy_df['前']\n",
    "toy_df['差'] = diff\n",
    "toy_df"
   ]
  },
  {
   "cell_type": "markdown",
   "metadata": {},
   "source": [
    "ここからが方法が異なる, 順位を用いて検定を行う.  \n",
    "最初に差の絶対値が小さいものから順に順位をつけていく. "
   ]
  },
  {
   "cell_type": "code",
   "execution_count": 67,
   "metadata": {},
   "outputs": [
    {
     "data": {
      "text/html": [
       "<div>\n",
       "<style scoped>\n",
       "    .dataframe tbody tr th:only-of-type {\n",
       "        vertical-align: middle;\n",
       "    }\n",
       "\n",
       "    .dataframe tbody tr th {\n",
       "        vertical-align: top;\n",
       "    }\n",
       "\n",
       "    .dataframe thead th {\n",
       "        text-align: right;\n",
       "    }\n",
       "</style>\n",
       "<table border=\"1\" class=\"dataframe\">\n",
       "  <thead>\n",
       "    <tr style=\"text-align: right;\">\n",
       "      <th></th>\n",
       "      <th>前</th>\n",
       "      <th>後</th>\n",
       "      <th>差</th>\n",
       "      <th>順位</th>\n",
       "    </tr>\n",
       "  </thead>\n",
       "  <tbody>\n",
       "    <tr>\n",
       "      <th>0</th>\n",
       "      <td>59</td>\n",
       "      <td>41</td>\n",
       "      <td>-18</td>\n",
       "      <td>5</td>\n",
       "    </tr>\n",
       "    <tr>\n",
       "      <th>1</th>\n",
       "      <td>52</td>\n",
       "      <td>63</td>\n",
       "      <td>11</td>\n",
       "      <td>3</td>\n",
       "    </tr>\n",
       "    <tr>\n",
       "      <th>2</th>\n",
       "      <td>55</td>\n",
       "      <td>68</td>\n",
       "      <td>13</td>\n",
       "      <td>4</td>\n",
       "    </tr>\n",
       "    <tr>\n",
       "      <th>3</th>\n",
       "      <td>61</td>\n",
       "      <td>59</td>\n",
       "      <td>-2</td>\n",
       "      <td>1</td>\n",
       "    </tr>\n",
       "    <tr>\n",
       "      <th>4</th>\n",
       "      <td>59</td>\n",
       "      <td>84</td>\n",
       "      <td>25</td>\n",
       "      <td>6</td>\n",
       "    </tr>\n",
       "    <tr>\n",
       "      <th>5</th>\n",
       "      <td>45</td>\n",
       "      <td>37</td>\n",
       "      <td>-8</td>\n",
       "      <td>2</td>\n",
       "    </tr>\n",
       "  </tbody>\n",
       "</table>\n",
       "</div>"
      ],
      "text/plain": [
       "    前   後   差  順位\n",
       "0  59  41 -18   5\n",
       "1  52  63  11   3\n",
       "2  55  68  13   4\n",
       "3  61  59  -2   1\n",
       "4  59  84  25   6\n",
       "5  45  37  -8   2"
      ]
     },
     "execution_count": 67,
     "metadata": {},
     "output_type": "execute_result"
    }
   ],
   "source": [
    "rank = stats.rankdata(abs(diff)).astype(int) #rankkdata関数が便利\n",
    "toy_df['順位'] = rank\n",
    "toy_df"
   ]
  },
  {
   "cell_type": "code",
   "execution_count": 69,
   "metadata": {},
   "outputs": [
    {
     "data": {
      "text/plain": [
       "(8, 13)"
      ]
     },
     "execution_count": 69,
     "metadata": {},
     "output_type": "execute_result"
    }
   ],
   "source": [
    "r_minus = np.sum((diff < 0) * rank) # 差がminusの順位の和\n",
    "r_plus = np.sum((diff > 0) * rank) # 差がplusの順位の和\n",
    "\n",
    "r_minus, r_plus #これらの小さい方が統計検定量になる今回は8"
   ]
  },
  {
   "cell_type": "markdown",
   "metadata": {},
   "source": [
    "この検定量が臨界値より小さい場合に帰無仮説が棄却される様な片側検定を行う.  \n",
    "ここでなぜこの方法で検定できるのかを極端な例で説明する.  "
   ]
  },
  {
   "cell_type": "code",
   "execution_count": 70,
   "metadata": {},
   "outputs": [
    {
     "data": {
      "text/html": [
       "<div>\n",
       "<style scoped>\n",
       "    .dataframe tbody tr th:only-of-type {\n",
       "        vertical-align: middle;\n",
       "    }\n",
       "\n",
       "    .dataframe tbody tr th {\n",
       "        vertical-align: top;\n",
       "    }\n",
       "\n",
       "    .dataframe thead th {\n",
       "        text-align: right;\n",
       "    }\n",
       "</style>\n",
       "<table border=\"1\" class=\"dataframe\">\n",
       "  <thead>\n",
       "    <tr style=\"text-align: right;\">\n",
       "      <th></th>\n",
       "      <th>前</th>\n",
       "      <th>後</th>\n",
       "      <th>差</th>\n",
       "      <th>順位</th>\n",
       "    </tr>\n",
       "  </thead>\n",
       "  <tbody>\n",
       "    <tr>\n",
       "      <th>0</th>\n",
       "      <td>59</td>\n",
       "      <td>60</td>\n",
       "      <td>1</td>\n",
       "      <td>1</td>\n",
       "    </tr>\n",
       "    <tr>\n",
       "      <th>1</th>\n",
       "      <td>52</td>\n",
       "      <td>54</td>\n",
       "      <td>2</td>\n",
       "      <td>2</td>\n",
       "    </tr>\n",
       "    <tr>\n",
       "      <th>2</th>\n",
       "      <td>55</td>\n",
       "      <td>58</td>\n",
       "      <td>3</td>\n",
       "      <td>3</td>\n",
       "    </tr>\n",
       "    <tr>\n",
       "      <th>3</th>\n",
       "      <td>61</td>\n",
       "      <td>65</td>\n",
       "      <td>4</td>\n",
       "      <td>4</td>\n",
       "    </tr>\n",
       "    <tr>\n",
       "      <th>4</th>\n",
       "      <td>59</td>\n",
       "      <td>64</td>\n",
       "      <td>5</td>\n",
       "      <td>5</td>\n",
       "    </tr>\n",
       "    <tr>\n",
       "      <th>5</th>\n",
       "      <td>45</td>\n",
       "      <td>51</td>\n",
       "      <td>6</td>\n",
       "      <td>6</td>\n",
       "    </tr>\n",
       "  </tbody>\n",
       "</table>\n",
       "</div>"
      ],
      "text/plain": [
       "    前   後  差  順位\n",
       "0  59  60  1   1\n",
       "1  52  54  2   2\n",
       "2  55  58  3   3\n",
       "3  61  65  4   4\n",
       "4  59  64  5   5\n",
       "5  45  51  6   6"
      ]
     },
     "execution_count": 70,
     "metadata": {},
     "output_type": "execute_result"
    }
   ],
   "source": [
    "toy_df['後'] = toy_df['前'] + np.arange(1, 7)\n",
    "diff = toy_df['後'] - toy_df['前']\n",
    "rank = stats.rankdata(abs(diff)).astype(int)\n",
    "toy_df['差'] = diff\n",
    "toy_df['順位'] = rank\n",
    "toy_df #全員が集中力が向上している結果になっている"
   ]
  },
  {
   "cell_type": "code",
   "execution_count": 71,
   "metadata": {},
   "outputs": [
    {
     "data": {
      "text/plain": [
       "(0, 21)"
      ]
     },
     "execution_count": 71,
     "metadata": {},
     "output_type": "execute_result"
    }
   ],
   "source": [
    "r_minus = np.sum((diff < 0) * rank)\n",
    "r_plus = np.sum((diff > 0) * rank)\n",
    "\n",
    "r_minus, r_plus #差に偏りがあるとどちらかは値が小さくなる"
   ]
  },
  {
   "cell_type": "markdown",
   "metadata": {},
   "source": [
    "次に上がった人も下がった人もいるという状況を考える."
   ]
  },
  {
   "cell_type": "code",
   "execution_count": 72,
   "metadata": {},
   "outputs": [
    {
     "data": {
      "text/html": [
       "<div>\n",
       "<style scoped>\n",
       "    .dataframe tbody tr th:only-of-type {\n",
       "        vertical-align: middle;\n",
       "    }\n",
       "\n",
       "    .dataframe tbody tr th {\n",
       "        vertical-align: top;\n",
       "    }\n",
       "\n",
       "    .dataframe thead th {\n",
       "        text-align: right;\n",
       "    }\n",
       "</style>\n",
       "<table border=\"1\" class=\"dataframe\">\n",
       "  <thead>\n",
       "    <tr style=\"text-align: right;\">\n",
       "      <th></th>\n",
       "      <th>前</th>\n",
       "      <th>後</th>\n",
       "      <th>差</th>\n",
       "      <th>順位</th>\n",
       "    </tr>\n",
       "  </thead>\n",
       "  <tbody>\n",
       "    <tr>\n",
       "      <th>0</th>\n",
       "      <td>59</td>\n",
       "      <td>60</td>\n",
       "      <td>1</td>\n",
       "      <td>1</td>\n",
       "    </tr>\n",
       "    <tr>\n",
       "      <th>1</th>\n",
       "      <td>52</td>\n",
       "      <td>50</td>\n",
       "      <td>-2</td>\n",
       "      <td>2</td>\n",
       "    </tr>\n",
       "    <tr>\n",
       "      <th>2</th>\n",
       "      <td>55</td>\n",
       "      <td>52</td>\n",
       "      <td>-3</td>\n",
       "      <td>3</td>\n",
       "    </tr>\n",
       "    <tr>\n",
       "      <th>3</th>\n",
       "      <td>61</td>\n",
       "      <td>65</td>\n",
       "      <td>4</td>\n",
       "      <td>4</td>\n",
       "    </tr>\n",
       "    <tr>\n",
       "      <th>4</th>\n",
       "      <td>59</td>\n",
       "      <td>64</td>\n",
       "      <td>5</td>\n",
       "      <td>5</td>\n",
       "    </tr>\n",
       "    <tr>\n",
       "      <th>5</th>\n",
       "      <td>45</td>\n",
       "      <td>39</td>\n",
       "      <td>-6</td>\n",
       "      <td>6</td>\n",
       "    </tr>\n",
       "  </tbody>\n",
       "</table>\n",
       "</div>"
      ],
      "text/plain": [
       "    前   後  差  順位\n",
       "0  59  60  1   1\n",
       "1  52  50 -2   2\n",
       "2  55  52 -3   3\n",
       "3  61  65  4   4\n",
       "4  59  64  5   5\n",
       "5  45  39 -6   6"
      ]
     },
     "execution_count": 72,
     "metadata": {},
     "output_type": "execute_result"
    }
   ],
   "source": [
    "toy_df['後'] = toy_df['前'] + [1, -2, -3, 4, 5, -6]\n",
    "diff = toy_df['後'] - toy_df['前']\n",
    "rank = stats.rankdata(abs(diff)).astype(int)\n",
    "toy_df['差'] = diff\n",
    "toy_df['順位'] = rank\n",
    "toy_df"
   ]
  },
  {
   "cell_type": "code",
   "execution_count": 74,
   "metadata": {},
   "outputs": [
    {
     "data": {
      "text/plain": [
       "(11, 10)"
      ]
     },
     "execution_count": 74,
     "metadata": {},
     "output_type": "execute_result"
    }
   ],
   "source": [
    "r_minus = np.sum((diff < 0) * rank)\n",
    "r_plus = np.sum((diff > 0) * rank)\n",
    "\n",
    "r_minus, r_plus # どっちもどっちな値になる, 検定統計量は大きめの11になる"
   ]
  },
  {
   "cell_type": "code",
   "execution_count": 76,
   "metadata": {},
   "outputs": [
    {
     "data": {
      "text/plain": [
       "True"
      ]
     },
     "execution_count": 76,
     "metadata": {},
     "output_type": "execute_result"
    }
   ],
   "source": [
    "T, p = stats.wilcoxon(training_rel['前'], training_rel['後']) #差をそのまま渡せる\n",
    "p < 0.05 #棄却される有意である, 対応のあるt検定の時と同じ結論"
   ]
  },
  {
   "cell_type": "markdown",
   "metadata": {},
   "source": [
    "ウィルコクソンの符号付き順位検定は母集団が正規分布に従う場合でも使う事ができる.  \n",
    "しかし対応ありt検定の方が検定力が高い.(教科書参照)  "
   ]
  },
  {
   "cell_type": "markdown",
   "metadata": {},
   "source": [
    "### マン・ホイットニーのU検定\n",
    "データに対応がなく正規分布を仮定できない場合の中央値の差の検定.  \n",
    "先ほどのデータの6行を用いていく. "
   ]
  },
  {
   "cell_type": "code",
   "execution_count": 77,
   "metadata": {},
   "outputs": [
    {
     "data": {
      "text/html": [
       "<div>\n",
       "<style scoped>\n",
       "    .dataframe tbody tr th:only-of-type {\n",
       "        vertical-align: middle;\n",
       "    }\n",
       "\n",
       "    .dataframe tbody tr th {\n",
       "        vertical-align: top;\n",
       "    }\n",
       "\n",
       "    .dataframe thead th {\n",
       "        text-align: right;\n",
       "    }\n",
       "</style>\n",
       "<table border=\"1\" class=\"dataframe\">\n",
       "  <thead>\n",
       "    <tr style=\"text-align: right;\">\n",
       "      <th></th>\n",
       "      <th>A</th>\n",
       "      <th>B</th>\n",
       "    </tr>\n",
       "  </thead>\n",
       "  <tbody>\n",
       "    <tr>\n",
       "      <th>0</th>\n",
       "      <td>47</td>\n",
       "      <td>49</td>\n",
       "    </tr>\n",
       "    <tr>\n",
       "      <th>1</th>\n",
       "      <td>50</td>\n",
       "      <td>52</td>\n",
       "    </tr>\n",
       "    <tr>\n",
       "      <th>2</th>\n",
       "      <td>37</td>\n",
       "      <td>54</td>\n",
       "    </tr>\n",
       "    <tr>\n",
       "      <th>3</th>\n",
       "      <td>60</td>\n",
       "      <td>48</td>\n",
       "    </tr>\n",
       "    <tr>\n",
       "      <th>4</th>\n",
       "      <td>39</td>\n",
       "      <td>51</td>\n",
       "    </tr>\n",
       "  </tbody>\n",
       "</table>\n",
       "</div>"
      ],
      "text/plain": [
       "    A   B\n",
       "0  47  49\n",
       "1  50  52\n",
       "2  37  54\n",
       "3  60  48\n",
       "4  39  51"
      ]
     },
     "execution_count": 77,
     "metadata": {},
     "output_type": "execute_result"
    }
   ],
   "source": [
    "training_ind = pd.read_csv('../data/ch11_training_ind.csv')\n",
    "toy_df = training_ind[:5].copy()\n",
    "toy_df"
   ]
  },
  {
   "cell_type": "code",
   "execution_count": 79,
   "metadata": {},
   "outputs": [
    {
     "data": {
      "text/html": [
       "<div>\n",
       "<style scoped>\n",
       "    .dataframe tbody tr th:only-of-type {\n",
       "        vertical-align: middle;\n",
       "    }\n",
       "\n",
       "    .dataframe tbody tr th {\n",
       "        vertical-align: top;\n",
       "    }\n",
       "\n",
       "    .dataframe thead th {\n",
       "        text-align: right;\n",
       "    }\n",
       "</style>\n",
       "<table border=\"1\" class=\"dataframe\">\n",
       "  <thead>\n",
       "    <tr style=\"text-align: right;\">\n",
       "      <th></th>\n",
       "      <th>A</th>\n",
       "      <th>B</th>\n",
       "    </tr>\n",
       "  </thead>\n",
       "  <tbody>\n",
       "    <tr>\n",
       "      <th>0</th>\n",
       "      <td>3</td>\n",
       "      <td>5</td>\n",
       "    </tr>\n",
       "    <tr>\n",
       "      <th>1</th>\n",
       "      <td>6</td>\n",
       "      <td>8</td>\n",
       "    </tr>\n",
       "    <tr>\n",
       "      <th>2</th>\n",
       "      <td>1</td>\n",
       "      <td>9</td>\n",
       "    </tr>\n",
       "    <tr>\n",
       "      <th>3</th>\n",
       "      <td>10</td>\n",
       "      <td>4</td>\n",
       "    </tr>\n",
       "    <tr>\n",
       "      <th>4</th>\n",
       "      <td>2</td>\n",
       "      <td>7</td>\n",
       "    </tr>\n",
       "  </tbody>\n",
       "</table>\n",
       "</div>"
      ],
      "text/plain": [
       "    A  B\n",
       "0   3  5\n",
       "1   6  8\n",
       "2   1  9\n",
       "3  10  4\n",
       "4   2  7"
      ]
     },
     "execution_count": 79,
     "metadata": {},
     "output_type": "execute_result"
    }
   ],
   "source": [
    "rank = stats.rankdata(np.concatenate([toy_df['A'],\n",
    "                                      toy_df['B']]))\n",
    "rank_df = pd.DataFrame({'A': rank[:5],\n",
    "                        'B': rank[5:10]}).astype(int)\n",
    "rank_df #この順位和を用いて検定統計量を出していく"
   ]
  },
  {
   "cell_type": "code",
   "execution_count": 81,
   "metadata": {},
   "outputs": [
    {
     "data": {
      "text/plain": [
       "7.0"
      ]
     },
     "execution_count": 81,
     "metadata": {},
     "output_type": "execute_result"
    }
   ],
   "source": [
    "n1 = len(rank_df['A'])\n",
    "u = rank_df['A'].sum() - (n1*(n1+1))/2 #ここでこの式は検定統計量がAにベストな順位が集まった時に0になるもの\n",
    "u #発想的にはAにいい順位が集まっているほど検定統計量は小さくなるという考え方"
   ]
  },
  {
   "cell_type": "code",
   "execution_count": 82,
   "metadata": {},
   "outputs": [
    {
     "data": {
      "text/plain": [
       "False"
      ]
     },
     "execution_count": 82,
     "metadata": {},
     "output_type": "execute_result"
    }
   ],
   "source": [
    "u, p = stats.mannwhitneyu(training_ind['A'], training_ind['B'],\n",
    "                          alternative='two-sided') #U検定はこの関数で行う事ができる\n",
    "p < 0.05 #採択される"
   ]
  },
  {
   "cell_type": "markdown",
   "metadata": {},
   "source": [
    "### 11.3.5:カイ二乗検定\n",
    "カイ二乗分布が用いられる独立性を検定する.\n",
    "e.g.\n",
    "広告と購入どうしがそれぞれ独立か影響し合うかなど"
   ]
  },
  {
   "cell_type": "code",
   "execution_count": 83,
   "metadata": {},
   "outputs": [
    {
     "name": "stdout",
     "output_type": "stream",
     "text": [
      "1000\n"
     ]
    },
    {
     "data": {
      "text/html": [
       "<div>\n",
       "<style scoped>\n",
       "    .dataframe tbody tr th:only-of-type {\n",
       "        vertical-align: middle;\n",
       "    }\n",
       "\n",
       "    .dataframe tbody tr th {\n",
       "        vertical-align: top;\n",
       "    }\n",
       "\n",
       "    .dataframe thead th {\n",
       "        text-align: right;\n",
       "    }\n",
       "</style>\n",
       "<table border=\"1\" class=\"dataframe\">\n",
       "  <thead>\n",
       "    <tr style=\"text-align: right;\">\n",
       "      <th></th>\n",
       "      <th>広告</th>\n",
       "      <th>購入</th>\n",
       "    </tr>\n",
       "  </thead>\n",
       "  <tbody>\n",
       "    <tr>\n",
       "      <th>0</th>\n",
       "      <td>B</td>\n",
       "      <td>しなかった</td>\n",
       "    </tr>\n",
       "    <tr>\n",
       "      <th>1</th>\n",
       "      <td>B</td>\n",
       "      <td>しなかった</td>\n",
       "    </tr>\n",
       "    <tr>\n",
       "      <th>2</th>\n",
       "      <td>A</td>\n",
       "      <td>した</td>\n",
       "    </tr>\n",
       "    <tr>\n",
       "      <th>3</th>\n",
       "      <td>A</td>\n",
       "      <td>した</td>\n",
       "    </tr>\n",
       "    <tr>\n",
       "      <th>4</th>\n",
       "      <td>B</td>\n",
       "      <td>しなかった</td>\n",
       "    </tr>\n",
       "  </tbody>\n",
       "</table>\n",
       "</div>"
      ],
      "text/plain": [
       "  広告     購入\n",
       "0  B  しなかった\n",
       "1  B  しなかった\n",
       "2  A     した\n",
       "3  A     した\n",
       "4  B  しなかった"
      ]
     },
     "execution_count": 83,
     "metadata": {},
     "output_type": "execute_result"
    }
   ],
   "source": [
    "ad_df = pd.read_csv('../data/ch11_ad.csv')\n",
    "n = len(ad_df)\n",
    "print(n)\n",
    "ad_df.head()"
   ]
  },
  {
   "cell_type": "code",
   "execution_count": 89,
   "metadata": {},
   "outputs": [
    {
     "data": {
      "text/html": [
       "<div>\n",
       "<style scoped>\n",
       "    .dataframe tbody tr th:only-of-type {\n",
       "        vertical-align: middle;\n",
       "    }\n",
       "\n",
       "    .dataframe tbody tr th {\n",
       "        vertical-align: top;\n",
       "    }\n",
       "\n",
       "    .dataframe thead th {\n",
       "        text-align: right;\n",
       "    }\n",
       "</style>\n",
       "<table border=\"1\" class=\"dataframe\">\n",
       "  <thead>\n",
       "    <tr style=\"text-align: right;\">\n",
       "      <th>購入</th>\n",
       "      <th>した</th>\n",
       "      <th>しなかった</th>\n",
       "    </tr>\n",
       "    <tr>\n",
       "      <th>広告</th>\n",
       "      <th></th>\n",
       "      <th></th>\n",
       "    </tr>\n",
       "  </thead>\n",
       "  <tbody>\n",
       "    <tr>\n",
       "      <th>A</th>\n",
       "      <td>49</td>\n",
       "      <td>351</td>\n",
       "    </tr>\n",
       "    <tr>\n",
       "      <th>B</th>\n",
       "      <td>51</td>\n",
       "      <td>549</td>\n",
       "    </tr>\n",
       "  </tbody>\n",
       "</table>\n",
       "</div>"
      ],
      "text/plain": [
       "購入  した  しなかった\n",
       "広告           \n",
       "A   49    351\n",
       "B   51    549"
      ]
     },
     "execution_count": 89,
     "metadata": {},
     "output_type": "execute_result"
    }
   ],
   "source": [
    "ad_cross = pd.crosstab(ad_df['広告'], ad_df['購入'])\n",
    "ad_cross #分割表, クロス集計表(観測度数)"
   ]
  },
  {
   "cell_type": "code",
   "execution_count": 86,
   "metadata": {},
   "outputs": [
    {
     "data": {
      "text/plain": [
       "広告\n",
       "A    0.1225\n",
       "B    0.0850\n",
       "dtype: float64"
      ]
     },
     "execution_count": 86,
     "metadata": {},
     "output_type": "execute_result"
    }
   ],
   "source": [
    "ad_cross['した'] / (ad_cross['した'] + ad_cross['しなかった']) #Aの方が良さそうだが…"
   ]
  },
  {
   "cell_type": "code",
   "execution_count": 87,
   "metadata": {},
   "outputs": [
    {
     "data": {
      "text/plain": [
       "(100, 900)"
      ]
     },
     "execution_count": 87,
     "metadata": {},
     "output_type": "execute_result"
    }
   ],
   "source": [
    "n_yes, n_not = ad_cross.sum()\n",
    "n_yes, n_not #購入した人, してない人"
   ]
  },
  {
   "cell_type": "code",
   "execution_count": 88,
   "metadata": {},
   "outputs": [
    {
     "data": {
      "text/plain": [
       "(400, 600)"
      ]
     },
     "execution_count": 88,
     "metadata": {},
     "output_type": "execute_result"
    }
   ],
   "source": [
    "n_adA, n_adB = ad_cross.sum(axis=1)\n",
    "n_adA, n_adB #A見た, B見た"
   ]
  },
  {
   "cell_type": "markdown",
   "metadata": {},
   "source": [
    "これらの合計を用いていく, ABが独立ならば分割表はどうなるべきかを見ていくこの様な時の度数を  \n",
    "**期待度数**といい実際の度数を**観測度数という**"
   ]
  },
  {
   "cell_type": "code",
   "execution_count": 90,
   "metadata": {},
   "outputs": [
    {
     "data": {
      "text/html": [
       "<div>\n",
       "<style scoped>\n",
       "    .dataframe tbody tr th:only-of-type {\n",
       "        vertical-align: middle;\n",
       "    }\n",
       "\n",
       "    .dataframe tbody tr th {\n",
       "        vertical-align: top;\n",
       "    }\n",
       "\n",
       "    .dataframe thead th {\n",
       "        text-align: right;\n",
       "    }\n",
       "</style>\n",
       "<table border=\"1\" class=\"dataframe\">\n",
       "  <thead>\n",
       "    <tr style=\"text-align: right;\">\n",
       "      <th></th>\n",
       "      <th>した</th>\n",
       "      <th>しなかった</th>\n",
       "    </tr>\n",
       "  </thead>\n",
       "  <tbody>\n",
       "    <tr>\n",
       "      <th>A</th>\n",
       "      <td>40.0</td>\n",
       "      <td>360.0</td>\n",
       "    </tr>\n",
       "    <tr>\n",
       "      <th>B</th>\n",
       "      <td>60.0</td>\n",
       "      <td>540.0</td>\n",
       "    </tr>\n",
       "  </tbody>\n",
       "</table>\n",
       "</div>"
      ],
      "text/plain": [
       "     した  しなかった\n",
       "A  40.0  360.0\n",
       "B  60.0  540.0"
      ]
     },
     "execution_count": 90,
     "metadata": {},
     "output_type": "execute_result"
    }
   ],
   "source": [
    "ad_ef = pd.DataFrame({'した': [n_adA * n_yes / n,\n",
    "                              n_adB * n_yes / n],\n",
    "                      'しなかった': [n_adA * n_not / n,\n",
    "                                   n_adB * n_not / n]},\n",
    "                      index=['A', 'B'])\n",
    "ad_ef #期待値度数"
   ]
  },
  {
   "cell_type": "code",
   "execution_count": 91,
   "metadata": {},
   "outputs": [
    {
     "data": {
      "text/plain": [
       "3.75"
      ]
     },
     "execution_count": 91,
     "metadata": {},
     "output_type": "execute_result"
    }
   ],
   "source": [
    "y = ((ad_cross - ad_ef) ** 2 / ad_ef).sum().sum() #カイ二乗検定ではこれら度数の乖離を測る事で検定を行う\n",
    "y #近似的に自由度1のカイ二乗分布に従う"
   ]
  },
  {
   "cell_type": "code",
   "execution_count": 94,
   "metadata": {},
   "outputs": [
    {
     "data": {
      "text/plain": [
       "False"
      ]
     },
     "execution_count": 94,
     "metadata": {},
     "output_type": "execute_result"
    }
   ],
   "source": [
    "rv = stats.chi2(1) #近似的に自由度1のカイ二乗分布に従う\n",
    "1 - rv.cdf(y) < 0.05 #採択→有意な差は認められない"
   ]
  },
  {
   "cell_type": "code",
   "execution_count": 95,
   "metadata": {
    "ExecuteTime": {
     "end_time": "2018-08-24T07:05:49.395030Z",
     "start_time": "2018-08-24T07:05:49.391241Z"
    }
   },
   "outputs": [
    {
     "data": {
      "text/plain": [
       "(3.75, 0.052807511416113395, 1)"
      ]
     },
     "execution_count": 95,
     "metadata": {},
     "output_type": "execute_result"
    }
   ],
   "source": [
    "chi2, p, dof, ef = stats.chi2_contingency(ad_cross,\n",
    "                                          correction=False) #scipyでもできるよ\n",
    "chi2, p, dof"
   ]
  },
  {
   "cell_type": "code",
   "execution_count": 96,
   "metadata": {
    "ExecuteTime": {
     "end_time": "2018-08-24T07:05:49.399218Z",
     "start_time": "2018-08-24T07:05:49.396171Z"
    }
   },
   "outputs": [
    {
     "data": {
      "text/plain": [
       "array([[ 40., 360.],\n",
       "       [ 60., 540.]])"
      ]
     },
     "execution_count": 96,
     "metadata": {},
     "output_type": "execute_result"
    }
   ],
   "source": [
    "ef"
   ]
  },
  {
   "cell_type": "code",
   "execution_count": null,
   "metadata": {},
   "outputs": [],
   "source": []
  }
 ],
 "metadata": {
  "kernelspec": {
   "display_name": "Python 3",
   "language": "python",
   "name": "python3"
  },
  "language_info": {
   "codemirror_mode": {
    "name": "ipython",
    "version": 3
   },
   "file_extension": ".py",
   "mimetype": "text/x-python",
   "name": "python",
   "nbconvert_exporter": "python",
   "pygments_lexer": "ipython3",
   "version": "3.7.2"
  }
 },
 "nbformat": 4,
 "nbformat_minor": 2
}
