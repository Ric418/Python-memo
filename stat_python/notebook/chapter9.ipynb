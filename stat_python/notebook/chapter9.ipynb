{
 "cells": [
  {
   "cell_type": "markdown",
   "metadata": {},
   "source": [
    "## Chapter9:独立同一分布\n",
    "互いに独立で, さらにそれぞれの確率分布に従う多次元確率変数を独立同一分布という,"
   ]
  },
  {
   "cell_type": "code",
   "execution_count": 1,
   "metadata": {},
   "outputs": [
    {
     "name": "stderr",
     "output_type": "stream",
     "text": [
      "/Users/Zi/anaconda3/envs/jupyter-env/lib/python3.7/importlib/_bootstrap.py:219: RuntimeWarning: numpy.ufunc size changed, may indicate binary incompatibility. Expected 192 from C header, got 216 from PyObject\n",
      "  return f(*args, **kwds)\n",
      "/Users/Zi/anaconda3/envs/jupyter-env/lib/python3.7/importlib/_bootstrap.py:219: RuntimeWarning: numpy.ufunc size changed, may indicate binary incompatibility. Expected 192 from C header, got 216 from PyObject\n",
      "  return f(*args, **kwds)\n"
     ]
    }
   ],
   "source": [
    "import numpy as np\n",
    "import matplotlib.pyplot as plt\n",
    "from scipy import stats\n",
    "from stats_package.modules import *\n",
    "\n",
    "np.random.seed(0)\n",
    "%precision 3\n",
    "%matplotlib inline"
   ]
  },
  {
   "cell_type": "code",
   "execution_count": 18,
   "metadata": {},
   "outputs": [],
   "source": [
    "linestyles = [\"-\", \"--\", \":\", \"-.\"]\n",
    "\n",
    "def E(XY, g):\n",
    "    '''\n",
    "    docstring\n",
    "    一般化された期待値を求める関数\n",
    "    _がprefixにつくと使用者が意識しなくて良い変数として扱う意味があった気がする\n",
    "    '''\n",
    "    _x_set, _y_set, f_XY = XY\n",
    "    return np.sum([g(x_i, y_j)*f_XY(x_i, y_j) \n",
    "                   for x_i in _x_set for y_j in _y_set])\n",
    "\n",
    "def Cov(XY):\n",
    "    _x_set, _y_set, f_XY = XY\n",
    "    _mean_X = E(XY, lambda x,y: x)\n",
    "    _mean_Y = E(XY, lambda x,y: y)\n",
    "    return np.sum([(x_i-_mean_X)*(y_j-_mean_Y)*f_XY(x_i, y_j)\n",
    "                   for x_i in _x_set for y_j in _y_set])\n",
    "\n",
    "def f_X(x):\n",
    "    '''\n",
    "    Xの周辺確率分布を求める関数\n",
    "    '''\n",
    "    return np.sum([f_XY(x, y_k) for y_k in y_set])\n",
    "\n",
    "def f_Y(y):\n",
    "    '''\n",
    "    Yの周辺確率分布を求める関数\n",
    "    '''\n",
    "    return np.sum([f_XY(x_k, y) for x_k in x_set])"
   ]
  },
  {
   "cell_type": "markdown",
   "metadata": {},
   "source": [
    "### 9.1:独立性\n",
    "#### 9.1.1:独立性の定義\n",
    "XとYが独立性を持つ時, 同時確率は周辺確率の積で表す事ができる\n",
    "$$\n",
    "f_{X,Y}(x,y) = f_X(x)f_Y(y)\n",
    "$$\n",
    "より一般にn次元の確率変数に拡張すると\n",
    "\n",
    "$$\n",
    "f_{X1,X2,...,Xn}(x1,x2,...,xn) = f_{X1}(x1)f_{X2}(x2)...f_{Xn}(xn)\n",
    "$$\n",
    "\n",
    "の様になる\n",
    "\n",
    "#### 9.1.2:独立性と無相関性\n",
    "無相関より独立性の方が強い概念,\n",
    "XとYが独立→無相関\n",
    "XとYが無相関とは言っても独立しているとは言えない"
   ]
  },
  {
   "cell_type": "code",
   "execution_count": 19,
   "metadata": {},
   "outputs": [],
   "source": [
    "x_set = np.array([1,2,3,4,5,6])\n",
    "y_set = np.array([1,2,3,4,5,6])\n",
    "\n",
    "def f_XY(x,y):\n",
    "    if x in x_set and y in y_set:\n",
    "        return x*y / 441\n",
    "    else:\n",
    "        return 0 \n",
    "    \n",
    "XY = [x_set, y_set, f_XY]"
   ]
  },
  {
   "cell_type": "markdown",
   "metadata": {},
   "source": [
    "このXYは独立なので無相関のはず。共分散で調べる。 "
   ]
  },
  {
   "cell_type": "code",
   "execution_count": 20,
   "metadata": {},
   "outputs": [
    {
     "data": {
      "text/plain": [
       "-8.326672684688674e-17"
      ]
     },
     "execution_count": 20,
     "metadata": {},
     "output_type": "execute_result"
    }
   ],
   "source": [
    "Cov(XY)"
   ]
  },
  {
   "cell_type": "markdown",
   "metadata": {},
   "source": [
    "次に無相関な2つの確率変数を考える.\n",
    "例として{(0,0),(1,1),(1,-1)}でそれぞれの確率(1/3)が等しい二次元確率変数(X,Y)を使う."
   ]
  },
  {
   "cell_type": "code",
   "execution_count": 21,
   "metadata": {},
   "outputs": [],
   "source": [
    "x_set = np.array([0,1])\n",
    "y_set = np.array([-1,0,1])\n",
    "\n",
    "def f_XY(x, y):\n",
    "    if (x,y) in [(0,0), (1,1), (1,-1)]:\n",
    "        return 1/3\n",
    "    else:\n",
    "        return 0\n",
    "    \n",
    "XY = [x_set, y_set, f_XY]"
   ]
  },
  {
   "cell_type": "code",
   "execution_count": 22,
   "metadata": {},
   "outputs": [
    {
     "data": {
      "text/plain": [
       "0.0"
      ]
     },
     "execution_count": 22,
     "metadata": {},
     "output_type": "execute_result"
    }
   ],
   "source": [
    "Cov(XY)"
   ]
  },
  {
   "cell_type": "code",
   "execution_count": 24,
   "metadata": {},
   "outputs": [
    {
     "data": {
      "text/plain": [
       "(0.1111111111111111, 0.333)"
      ]
     },
     "execution_count": 24,
     "metadata": {},
     "output_type": "execute_result"
    }
   ],
   "source": [
    "f_X(0)*f_Y(0),f_XY(0,0) #f_X(0)*f_Y(0) \\= f_XY(0,0)"
   ]
  },
  {
   "cell_type": "markdown",
   "metadata": {},
   "source": [
    "## 9.2:和の分布\n",
    "標本平均の分布を考えるために和の分布について考える\n",
    "$$\n",
    "\\sum_{i=1}^{n}X_n=X_1+X_2+...+X_n\n",
    "$$\n",
    "の分布を見ていく, 和の分布の確率関数や密度関数を直接導くのは難しいので期待値と分散について見ていく\n",
    "$$\n",
    "E(X_1+X_2+...+X_n)=E(X_1)+E(X_2)+E(X_n)\n",
    "$$\n",
    "確率変数がそれぞれ独立の場合, 共分散項が0になるので同様に和で表せる\n",
    "### 9.2.1:正規分布の和の分布\n",
    "互いに独立なX~N(1,2), Y~N(2,3)を考える.\n",
    "E(X+Y)=3, V(X+Y)=5となる\n",
    "Pythonで求めると, XとYから無作為抽出をしそれらの和をとる事でX＋Yの標本データをえる."
   ]
  },
  {
   "cell_type": "code",
   "execution_count": 36,
   "metadata": {},
   "outputs": [
    {
     "data": {
      "text/plain": [
       "(3.002103130595829, 5.00099737369946)"
      ]
     },
     "execution_count": 36,
     "metadata": {},
     "output_type": "execute_result"
    }
   ],
   "source": [
    "rv1 = stats.norm(1, np.sqrt(2))\n",
    "rv2 = stats.norm(2, np.sqrt(3))\n",
    "\n",
    "sample_size = int(1e6)\n",
    "X_sample = rv1.rvs(sample_size)\n",
    "Y_sample = rv2.rvs(sample_size)\n",
    "sum_sample = X_sample+Y_sample\n",
    "\n",
    "np.mean(sum_smaple), np.var(sum_smaple)"
   ]
  },
  {
   "cell_type": "markdown",
   "metadata": {},
   "source": [
    "独立な確率分布がその和も同じ分布になることを**再生性**という.\n",
    "全ての確率分布がこの性質を備えているわけではなく正規分布などがこれに該当する.\n",
    "X+Y~N(3,5)を例にしてみる"
   ]
  },
  {
   "cell_type": "code",
   "execution_count": 37,
   "metadata": {},
   "outputs": [
    {
     "data": {
      "image/png": "[encoded data removed]",
      "text/plain": [
       "<Figure size 720x432 with 1 Axes>"
      ]
     },
     "metadata": {
      "needs_background": "light"
     },
     "output_type": "display_data"
    }
   ],
   "source": [
    "fig = plt.figure(figsize=(10,6))\n",
    "ax=fig.add_subplot(111)\n",
    "\n",
    "rv=stats.norm(3,np.sqrt(5))\n",
    "xs=np.linspace(rv.isf(0.995),rv.isf(0.005),100)\n",
    "\n",
    "ax.hist(sum_sample,bins=100,density=True,alpha=.5,label=\"N(1,2)+N(2,3)\")\n",
    "ax.plot(xs,rv.pdf(xs),label=\"N(3,5)\", color=\"gray\")\n",
    "ax.plot(xs,rv1.pdf(xs),label=\"N(1,2)\", ls=\"--\", color=\"gray\")\n",
    "ax.plot(xs,rv2.pdf(xs),label=\"N(2,3)\", ls=\":\", color=\"gray\")\n",
    "\n",
    "ax.legend()\n",
    "ax.set_xlim(rv.isf(0.995),rv.isf(0.005))\n",
    "plt.show()"
   ]
  },
  {
   "cell_type": "markdown",
   "metadata": {},
   "source": [
    "ヒストグラムと密度関数がきれいに一致する\n",
    "\n",
    "より一般化すると\n",
    "$$\n",
    "\\sum_{i=1}^{n}X_i \\sim N(\\sum_{i=1}^{n}\\mu_i,\\sum_{i=1}^{n}\\sigma_i^2)\n",
    "$$\n",
    "となる.\n",
    "### ポアソン分布の和の分布\n",
    "X~Poi(3)とY~Poi(4)の場合を考える, 期待値・分散共に$\\lambda$なので\n",
    "X+Y~Poi(7)となり期待値・分散はどちらも7となる, ポアソン分布も再生性を持つ分布である. \n",
    "これを確認してみる. "
   ]
  },
  {
   "cell_type": "code",
   "execution_count": 39,
   "metadata": {},
   "outputs": [
    {
     "data": {
      "text/plain": [
       "(6.995938, 6.996069500156)"
      ]
     },
     "execution_count": 39,
     "metadata": {},
     "output_type": "execute_result"
    }
   ],
   "source": [
    "rv1 = stats.poisson(3)\n",
    "rv2 = stats.poisson(4)\n",
    "\n",
    "X_sample = rv1.rvs(sample_size)\n",
    "Y_sample = rv2.rvs(sample_size)\n",
    "sum_sample = X_sample+Y_sample\n",
    "\n",
    "np.mean(sum_sample), np.var(sum_sample) #期待値, 分散"
   ]
  },
  {
   "cell_type": "markdown",
   "metadata": {},
   "source": [
    "正規分布同様Poi(7)の分布はPoi(3)+Poi(4)と一致し一般化できる\n",
    "\n",
    "### 9.2.3:ベルヌーイ分布の和の分布\n",
    "$$\n",
    "X_1,X_2,...X_{10} \\sim Bern(0.3), \\sum_{i=1}^{10}X_i\n",
    "$$\n",
    "を考える. $Bern(p)$のときの期待値はp, 分散はp(1-p)なので\n",
    "それぞれ0.3, 0.21となるはず"
   ]
  },
  {
   "cell_type": "code",
   "execution_count": 41,
   "metadata": {},
   "outputs": [
    {
     "data": {
      "text/plain": [
       "(3.000999, 2.1053760019989998)"
      ]
     },
     "execution_count": 41,
     "metadata": {},
     "output_type": "execute_result"
    }
   ],
   "source": [
    "p =0.3\n",
    "rv=stats.bernoulli(p)\n",
    "\n",
    "sample_size=int(1e6)\n",
    "Xs_sample=rv.rvs((10, sample_size))\n",
    "sum_sample = np.sum(Xs_sample,axis=0)\n",
    "\n",
    "np.mean(sum_sample), np.var(sum_sample)"
   ]
  },
  {
   "cell_type": "markdown",
   "metadata": {},
   "source": [
    "上記の通り平均と分散は一致するが分布の方は再生性は**持たない**  \n",
    "ただしベルヌーイ分布の和の分布はn,pをパラメタに持つ**二項分布**となる.  \n",
    "今回はn=10,p=0.3なので$\\sum_{i=1}^{10}X_i~Bin(10,0.3)$となる. \n",
    "\n",
    "このヒストグラムを確認する"
   ]
  },
  {
   "cell_type": "code",
   "execution_count": 46,
   "metadata": {},
   "outputs": [
    {
     "name": "stderr",
     "output_type": "stream",
     "text": [
      "/Users/Zi/anaconda3/envs/jupyter-env/lib/python3.7/site-packages/ipykernel_launcher.py:7: VisibleDeprecationWarning: Passing `normed=True` on non-uniform bins has always been broken, and computes neither the probability density function nor the probability mass function. The result is only correct if the bins are uniform, when density=True will produce the same result anyway. The argument will be removed in a future version of numpy.\n",
      "  import sys\n"
     ]
    },
    {
     "data": {
      "text/plain": [
       "<function matplotlib.pyplot.show(*args, **kw)>"
      ]
     },
     "execution_count": 46,
     "metadata": {},
     "output_type": "execute_result"
    },
    {
     "data": {
      "image/png": "[encoded data removed]",
      "text/plain": [
       "<Figure size 720x432 with 1 Axes>"
      ]
     },
     "metadata": {
      "needs_background": "light"
     },
     "output_type": "display_data"
    }
   ],
   "source": [
    "fig = plt.figure(figsize=(10,6))\n",
    "ax=fig.add_subplot(111)\n",
    "\n",
    "rv=stats.binom(10,p)\n",
    "xs=np.arange(10)\n",
    "\n",
    "hist, _ =np.histogram(sum_sample,bins=10,range=(0,10),normed=True)\n",
    "ax.bar(xs,hist,alpha=0.5,label=\"The sum of 10 Bern(0.3)\")\n",
    "ax.plot(xs,rv.pmf(xs),label=\"Bin(10,0.3)\")\n",
    "ax.legend()\n",
    "ax.set_xlim(-0.5,10)\n",
    "ax.set_xticks(np.arange(10))\n",
    "plt.show"
   ]
  },
  {
   "cell_type": "markdown",
   "metadata": {},
   "source": [
    "p=0.3の10個のベルヌーイ分布とn=10,p=0.3の二項分布が一致している\n",
    "\n",
    "## 9.3:標本平均の分布\n",
    "ここまで和の分布を見てきたので次に標本平均について見ていく, 期待値の線形性などを使って  \n",
    "標本平均の期待値と分散はそれぞれ$\\mu$,$\\frac{\\sigma^2}{n}$となる\n",
    "\n",
    "これらは母平均の区間推定(10章)や検定(11章)で重要になってくる\n",
    "\n",
    "### 9.3.1:正規分布の標本平均の分布\n",
    "単純に\n",
    "$$\n",
    "\\overline{X}\\sim N(\\mu,\\frac{\\sigma^2}{n})\n",
    "$$\n",
    "に従う分布になるのでグラフは割愛する\n",
    "\n",
    "### 9.3.2:ポアソン分布の標本平均の分布\n",
    "n=10, λ=3として標本平均を調べる. 期待値3, 分散3/10となるはず"
   ]
  },
  {
   "cell_type": "code",
   "execution_count": 47,
   "metadata": {},
   "outputs": [
    {
     "data": {
      "text/plain": [
       "(2.9999304, 0.29994425515584006)"
      ]
     },
     "execution_count": 47,
     "metadata": {},
     "output_type": "execute_result"
    }
   ],
   "source": [
    "l=3\n",
    "rv=stats.poisson(l)\n",
    "\n",
    "n=10\n",
    "sample_size=int(1e6)\n",
    "Xs_sample = rv.rvs((n,sample_size))\n",
    "sample_mean=np.mean(Xs_sample,axis=0)\n",
    "\n",
    "np.mean(sample_mean), np.var(sample_mean)"
   ]
  },
  {
   "cell_type": "markdown",
   "metadata": {},
   "source": [
    "これはもうポアソン分布には従ってはいない, 分布を見てみる"
   ]
  },
  {
   "cell_type": "code",
   "execution_count": 48,
   "metadata": {},
   "outputs": [
    {
     "data": {
      "image/png": "[encoded data removed]",
      "text/plain": [
       "<Figure size 720x432 with 1 Axes>"
      ]
     },
     "metadata": {
      "needs_background": "light"
     },
     "output_type": "display_data"
    }
   ],
   "source": [
    "fig = plt.figure(figsize=(10,6))\n",
    "ax=fig.add_subplot(111)\n",
    "\n",
    "ax.hist(sample_mean,bins=100,density=True,\n",
    "       alpha=.5,label=\"The mean of 10 Poi(3)\")\n",
    "\n",
    "ax.legend()\n",
    "ax.set_xlim(0,6)\n",
    "plt.show()"
   ]
  },
  {
   "cell_type": "markdown",
   "metadata": {},
   "source": [
    "$\\overline{X}\\sim N(3,0,3)$の正規分布に近似, 次の中心極限定りで説明できる\n",
    "\n",
    "### 中心極限定理\n",
    "再生性を持たない複雑な和の分布やポアソン分布の標本平均の分布の様に分布の形がどうなるかわからない分布については,  \n",
    "便利なこの定理を用いる, ザックリいってしまうと「確率変数が独立である期待値が\n",
    "$\\mu$,分散$\\sigma$の確率分布に従う標本平均の分布はnが大きくなるにつれ正規分布に近づいていく.  \n",
    "\n",
    "これをポアソン分布を用いて確かめる"
   ]
  },
  {
   "cell_type": "code",
   "execution_count": 53,
   "metadata": {},
   "outputs": [],
   "source": [
    "l=3\n",
    "rv=stats.poisson(l)\n",
    "\n",
    "n=10000\n",
    "sample_size=10000\n",
    "Xs_sample = rv.rvs((n,sample_size))\n",
    "sample_mean=np.mean(Xs_sample,axis=0)\n",
    "rv_true = stats.norm(l, np.sqrt(l/n))\n",
    "xs = np.linspace(rv_true.isf(0.999), rv_true.isf(0.001),100)"
   ]
  },
  {
   "cell_type": "markdown",
   "metadata": {},
   "source": [
    "$\\overline{X}$は近似的に$N(3,3/10000)$に従うはずなのでそれと共にプロットする"
   ]
  },
  {
   "cell_type": "code",
   "execution_count": 57,
   "metadata": {},
   "outputs": [
    {
     "data": {
      "image/png": "[encoded data removed]",
      "text/plain": [
       "<Figure size 720x432 with 1 Axes>"
      ]
     },
     "metadata": {
      "needs_background": "light"
     },
     "output_type": "display_data"
    }
   ],
   "source": [
    "fig = plt.figure(figsize=(10,6))\n",
    "ax=fig.add_subplot(111)\n",
    "\n",
    "ax.hist(sample_mean,bins=100,density=True,\n",
    "       alpha=.5,label=\"The mean of 10000 Poi(3)\")\n",
    "ax.plot(xs, rv_true.pdf(xs),label=\"N(3,3/10000)\",color=\"gray\")\n",
    "\n",
    "ax.legend()\n",
    "ax.set_xlim(rv_true.isf(0.999), rv_true.isf(0.001))\n",
    "plt.show()"
   ]
  },
  {
   "cell_type": "markdown",
   "metadata": {},
   "source": [
    "大体一致している.\n",
    "\n",
    "### 9.3.4:大数の法則\n",
    "これはいいかな, 標本平均は試行回数を重ねると母平均に収束するということ"
   ]
  },
  {
   "cell_type": "code",
   "execution_count": null,
   "metadata": {},
   "outputs": [],
   "source": []
  }
 ],
 "metadata": {
  "kernelspec": {
   "display_name": "Python 3",
   "language": "python",
   "name": "python3"
  },
  "language_info": {
   "codemirror_mode": {
    "name": "ipython",
    "version": 3
   },
   "file_extension": ".py",
   "mimetype": "text/x-python",
   "name": "python",
   "nbconvert_exporter": "python",
   "pygments_lexer": "ipython3",
   "version": "3.7.2"
  }
 },
 "nbformat": 4,
 "nbformat_minor": 2
}
