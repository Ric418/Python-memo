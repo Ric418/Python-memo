{
 "cells": [
  {
   "cell_type": "code",
   "execution_count": 1,
   "metadata": {},
   "outputs": [],
   "source": [
    "import numpy as np\n",
    "import matplotlib.pyplot as plt\n",
    "\n",
    "%precision 3\n",
    "%matplotlib inline"
   ]
  },
  {
   "cell_type": "markdown",
   "metadata": {},
   "source": [
    "## 5.1 一次元の離散型確率変数\n",
    "離散型：取りうる値が整数\n",
    "### 5.1.1 1次元の離散型確率変数の定義\n",
    "#### 確率質量関数 PMF\n",
    "$$\n",
    "P(X=x_k)=p_k (k=1,2,3,...)\n",
    "$$\n",
    "\n",
    "取りうる値xによって確率p_kが決定する関数とも取れる\n",
    "\n",
    "前章の歪んだサイコロを例にとる"
   ]
  },
  {
   "cell_type": "code",
   "execution_count": 2,
   "metadata": {},
   "outputs": [],
   "source": [
    "x_set = np.array(range(1,7))"
   ]
  },
  {
   "cell_type": "code",
   "execution_count": 3,
   "metadata": {},
   "outputs": [
    {
     "data": {
      "text/plain": [
       "array([1, 2, 3, 4, 5, 6])"
      ]
     },
     "execution_count": 3,
     "metadata": {},
     "output_type": "execute_result"
    }
   ],
   "source": [
    "x_set"
   ]
  },
  {
   "cell_type": "markdown",
   "metadata": {},
   "source": [
    "歪んだサイコロの確率分布\n",
    "\n",
    "1:1/21  \n",
    "2:2/21  \n",
    "3:3/21  \n",
    "4:4/21  \n",
    "5:5/21  \n",
    "6:6/21  \n",
    "\n",
    "以上を確率関数の式$f(x)$として表すと  \n",
    "  \\begin{cases}\n",
    "    x / 21 & (x \\in 1,2,3,4,5,6) \\\\\n",
    "    0 & (otherwise)\n",
    "  \\end{cases}\n",
    "\n",
    "となる, 関数で実装すると"
   ]
  },
  {
   "cell_type": "code",
   "execution_count": 98,
   "metadata": {},
   "outputs": [],
   "source": [
    "def f(x):\n",
    "    if x in x_set:\n",
    "        return x/21\n",
    "    else:\n",
    "        return 0"
   ]
  },
  {
   "cell_type": "code",
   "execution_count": 99,
   "metadata": {},
   "outputs": [],
   "source": [
    "# 取りうる値xと確率関数とセットで持つ確率分布をリストで実装する\n",
    "X = [x_set, f]"
   ]
  },
  {
   "cell_type": "code",
   "execution_count": 6,
   "metadata": {},
   "outputs": [],
   "source": [
    "prob = np.array([f(x_k) for x_k in x_set])"
   ]
  },
  {
   "cell_type": "code",
   "execution_count": 7,
   "metadata": {},
   "outputs": [
    {
     "data": {
      "text/plain": [
       "{1: 0.047619047619047616,\n",
       " 2: 0.09523809523809523,\n",
       " 3: 0.14285714285714285,\n",
       " 4: 0.19047619047619047,\n",
       " 5: 0.23809523809523808,\n",
       " 6: 0.2857142857142857}"
      ]
     },
     "execution_count": 7,
     "metadata": {},
     "output_type": "execute_result"
    }
   ],
   "source": [
    "# zipで一気に作るのが便利\n",
    "dict(zip(x_set, prob))"
   ]
  },
  {
   "cell_type": "code",
   "execution_count": 8,
   "metadata": {},
   "outputs": [
    {
     "data": {
      "image/png": "[encoded data removed]",
      "text/plain": [
       "<Figure size 720x432 with 1 Axes>"
      ]
     },
     "metadata": {
      "needs_background": "light"
     },
     "output_type": "display_data"
    }
   ],
   "source": [
    "fig=plt.figure(figsize=(10,6))\n",
    "ax=fig.add_subplot(111)\n",
    "ax.bar(x_set, prob)\n",
    "ax.set_xlabel('x')\n",
    "ax.set_ylabel('p(x)')\n",
    "\n",
    "plt.show()"
   ]
  },
  {
   "cell_type": "markdown",
   "metadata": {},
   "source": [
    "#### 確率の性質\n",
    "各確率は足すと一になる(それはそう)"
   ]
  },
  {
   "cell_type": "code",
   "execution_count": 9,
   "metadata": {},
   "outputs": [
    {
     "data": {
      "text/plain": [
       "True"
      ]
     },
     "execution_count": 9,
     "metadata": {},
     "output_type": "execute_result"
    }
   ],
   "source": [
    "np.all(prob >= 0)"
   ]
  },
  {
   "cell_type": "code",
   "execution_count": 10,
   "metadata": {},
   "outputs": [
    {
     "data": {
      "text/plain": [
       "0.9999999999999999"
      ]
     },
     "execution_count": 10,
     "metadata": {},
     "output_type": "execute_result"
    }
   ],
   "source": [
    "np.sum(prob)"
   ]
  },
  {
   "cell_type": "markdown",
   "metadata": {},
   "source": [
    "#### 累積分布関数\n",
    "これを使うと出目が3以下の時は確率いくつかみたいなのもできて便利？  \n",
    "\n",
    "$$\n",
    "F(x)=P(X \\le x)=\\sum_{x_k \\le x} f(x_k)\n",
    "$$"
   ]
  },
  {
   "cell_type": "code",
   "execution_count": 11,
   "metadata": {},
   "outputs": [],
   "source": [
    "def F(x):\n",
    "    return np.sum([f(x_k) for x_k in x_set if x_k <= x])"
   ]
  },
  {
   "cell_type": "code",
   "execution_count": 12,
   "metadata": {},
   "outputs": [
    {
     "data": {
      "text/plain": [
       "0.2857142857142857"
      ]
     },
     "execution_count": 12,
     "metadata": {},
     "output_type": "execute_result"
    }
   ],
   "source": [
    "F(3)"
   ]
  },
  {
   "cell_type": "markdown",
   "metadata": {},
   "source": [
    "#### 確率変数の変換\n",
    "標準化(z-score)する時などに重要  \n",
    "以下にサイコロの出目にXに対して2X+3と言う変換をかけた確率変数Yを例にとり説明する\n",
    "\n",
    "変換した後も確率変数であることを抑えておけば大丈夫"
   ]
  },
  {
   "cell_type": "code",
   "execution_count": 13,
   "metadata": {},
   "outputs": [
    {
     "data": {
      "text/plain": [
       "{5: 0.047619047619047616,\n",
       " 7: 0.09523809523809523,\n",
       " 9: 0.14285714285714285,\n",
       " 11: 0.19047619047619047,\n",
       " 13: 0.23809523809523808,\n",
       " 15: 0.2857142857142857}"
      ]
     },
     "execution_count": 13,
     "metadata": {},
     "output_type": "execute_result"
    }
   ],
   "source": [
    "y_set = np.array([2*x_k+3 for x_k in x_set])\n",
    "prob = np.array([f(x_k) for x_k in x_set])\n",
    "dict(zip(y_set, prob))"
   ]
  },
  {
   "cell_type": "markdown",
   "metadata": {},
   "source": [
    "### 5.1.2 離散型確率変数の指標\n",
    "これまで一次元データに関して平均や分散などを見てきた.  \n",
    "確率変数に関しても平均や分散を導出することができる→これで確率変数の特徴を押さえる. \n",
    "\n",
    "#### 期待値(平均)\n",
    "おなじみ期待値, 得られるスコアの平均. \n",
    "ある確率分布に無限回思考おいて得られる値の平均→つまりこれは期待値と同じ.   \n",
    "\n",
    "$$\\mu=E(X)=\\sum_{k} x_kf(x_k)$$"
   ]
  },
  {
   "cell_type": "code",
   "execution_count": 14,
   "metadata": {},
   "outputs": [
    {
     "data": {
      "text/plain": [
       "4.333333333333333"
      ]
     },
     "execution_count": 14,
     "metadata": {},
     "output_type": "execute_result"
    }
   ],
   "source": [
    "# x_setでのみ計算\n",
    "np.sum([x_k * f(x_k) for x_k in x_set])"
   ]
  },
  {
   "cell_type": "code",
   "execution_count": 15,
   "metadata": {},
   "outputs": [
    {
     "name": "stdout",
     "output_type": "stream",
     "text": [
      "10000000\n",
      "4.3326514\n"
     ]
    }
   ],
   "source": [
    "# 1000万回試行して確かめる\n",
    "sample = np.random.choice(x_set, int(1e7), p=prob)\n",
    "print(len(sample))\n",
    "print(np.mean(sample))"
   ]
  },
  {
   "cell_type": "markdown",
   "metadata": {},
   "source": [
    "これを平均として, この後の無限回試行した場合の確率変数の分散や共分散を求めていく.  \n",
    "また変換した確立変数の期待値も同様に求めることができる. \n",
    "\n",
    "例えばさっきの\n",
    "$X→2X+3=Y$の例で言うと  \n",
    "$$\n",
    "E(Y) = E(2X+3) = \\sum_{k}(2x_k+3)f(x_k)\n",
    "$$\n",
    "\n",
    "これを一般化して\n",
    "\n",
    "$$\n",
    "E(g(X)) = \\sum_{k}g(x_k)f(x_k)\n",
    "$$\n",
    "\n",
    "定義できる. "
   ]
  },
  {
   "cell_type": "code",
   "execution_count": 100,
   "metadata": {},
   "outputs": [],
   "source": [
    "def E(X, g = lambda x: x):\n",
    "    '''\n",
    "    docstring\n",
    "    一般化された期待値を求める関数\n",
    "    _がprefixにつくと使用者が意識しなくて良い変数として扱う意味があった気がする\n",
    "    '''\n",
    "    _x_set, f = X\n",
    "    return np.sum([g(x_k)*f(x_k) for x_k in _x_set])"
   ]
  },
  {
   "cell_type": "code",
   "execution_count": 18,
   "metadata": {},
   "outputs": [
    {
     "data": {
      "text/plain": [
       "4.333333333333333"
      ]
     },
     "execution_count": 18,
     "metadata": {},
     "output_type": "execute_result"
    }
   ],
   "source": [
    "E(X)"
   ]
  },
  {
   "cell_type": "code",
   "execution_count": 19,
   "metadata": {},
   "outputs": [
    {
     "data": {
      "text/plain": [
       "11.666666666666664"
      ]
     },
     "execution_count": 19,
     "metadata": {},
     "output_type": "execute_result"
    }
   ],
   "source": [
    "E(X, g=lambda x:2*x+3)"
   ]
  },
  {
   "cell_type": "markdown",
   "metadata": {},
   "source": [
    "#### 期待値の線形性\n",
    "$$\n",
    "E(aX+b) = aE(X)+b  \\\\\n",
    "a, b \\in R\n",
    "$$\n",
    "\n",
    "実数は外に出せる"
   ]
  },
  {
   "cell_type": "code",
   "execution_count": 23,
   "metadata": {},
   "outputs": [
    {
     "name": "stdout",
     "output_type": "stream",
     "text": [
      "11.666666666666666\n",
      "11.666666666666664\n"
     ]
    }
   ],
   "source": [
    "print(2*E(X)+3)\n",
    "print(E(X, g=lambda x:2*x+3))"
   ]
  },
  {
   "cell_type": "markdown",
   "metadata": {},
   "source": [
    "#### 分散\n",
    "基本計算は同じ\n",
    "\n",
    "$$\n",
    "V(X)=\\sum_{k}(x_k-\\mu)^2f(x_k)\n",
    "$$\n",
    "\n",
    "これを変換も含めた一般化をすると\n",
    "\n",
    "$$\n",
    "V(g(X))=\\sum_{k}(g(x_k)-\\mu)^2f(x_k)\n",
    "$$\n",
    "\n",
    "となる"
   ]
  },
  {
   "cell_type": "code",
   "execution_count": 24,
   "metadata": {},
   "outputs": [
    {
     "data": {
      "text/plain": [
       "2.2222222222222223"
      ]
     },
     "execution_count": 24,
     "metadata": {},
     "output_type": "execute_result"
    }
   ],
   "source": [
    "mean = E(X)\n",
    "np.sum([(x_k - mean)**2*f(x_k) for x_k in x_set])"
   ]
  },
  {
   "cell_type": "code",
   "execution_count": 35,
   "metadata": {},
   "outputs": [],
   "source": [
    "def V(X, g = lambda x: x):\n",
    "    '''\n",
    "    一般化された分散を求める関数\n",
    "    '''\n",
    "    _x_set, f = X\n",
    "    _mean = E(X, g)\n",
    "    return np.sum([(g(x_k)-_mean)**2 * f(x_k) for x_k in _x_set])"
   ]
  },
  {
   "cell_type": "code",
   "execution_count": 36,
   "metadata": {},
   "outputs": [
    {
     "data": {
      "text/plain": [
       "2.2222222222222223"
      ]
     },
     "execution_count": 36,
     "metadata": {},
     "output_type": "execute_result"
    }
   ],
   "source": [
    "V(X)"
   ]
  },
  {
   "cell_type": "markdown",
   "metadata": {},
   "source": [
    "#### 分散の公式\n",
    "$$\n",
    "V(aX+b) = a^2V(X)  \\\\\n",
    "a, b \\in R\n",
    "$$"
   ]
  },
  {
   "cell_type": "code",
   "execution_count": 37,
   "metadata": {},
   "outputs": [
    {
     "data": {
      "text/plain": [
       "8.88888888888889"
      ]
     },
     "execution_count": 37,
     "metadata": {},
     "output_type": "execute_result"
    }
   ],
   "source": [
    "V(X, lambda x: 2*x+3)"
   ]
  },
  {
   "cell_type": "code",
   "execution_count": 38,
   "metadata": {},
   "outputs": [
    {
     "data": {
      "text/plain": [
       "8.88888888888889"
      ]
     },
     "execution_count": 38,
     "metadata": {},
     "output_type": "execute_result"
    }
   ],
   "source": [
    "# V(2X+3) = 4V(X)\n",
    "4*V(X)"
   ]
  },
  {
   "cell_type": "markdown",
   "metadata": {},
   "source": [
    "## 5.2 2次元の離散型確率変数\n",
    "二つの歪んだサイコロを用いる. \n",
    "\n",
    "### 5.2.1 2次元の離散型確率変数\n",
    "#### 同時確率分布\n",
    "2つ同時に扱い$(X,Y)$として表す.\n",
    "これらの取りうる値の組み合わせを\n",
    "$$\n",
    "{(x_i, y_j|i=1,2,3...; j=1,2,3...)}\n",
    "$$\n",
    "とすると, それらの組み合わせの値をとる確率は\n",
    "$$\n",
    "P(X=x_i, Y=y_j)=p_ij\n",
    "$$\n",
    "と表す, このような$(X,Y)$どちらもの振る舞いを同時に考えた確率分布のことを\n",
    "**同時確率分布**と言う.\n",
    "\n",
    "今回は二つのサイコロの目を  \n",
    "\n",
    "X:{1,2,3,4,5,6}  \n",
    "Y:{2,3,4,5,6,7,8,9,10,11,12}(二つのサイコロの出目を足したもの)  \n",
    "\n",
    "として考える.\n",
    "\n",
    "今回の場合, 同時確率はXの確率とYの確率を単に掛け算することで計算できる. \n",
    "\n",
    "$$\n",
    "f_{XY}(x,y)=\n",
    "\\begin{cases}\n",
    "    y(x-y) / 441 & (y \\in \\{1,2,3,4,5,6\\}\\ and\\ x-y \\in \\{1,2,3,4,5,6\\}) \\\\\n",
    "    0 & (otherwise)\n",
    "  \\end{cases}\n",
    "$$"
   ]
  },
  {
   "cell_type": "code",
   "execution_count": 103,
   "metadata": {},
   "outputs": [],
   "source": [
    "# この教科書変数上書きするのあんましイケてない\n",
    "x_set_2 = np.arange(2,13)\n",
    "y_set_2 = np.arange(1,7)"
   ]
  },
  {
   "cell_type": "code",
   "execution_count": 50,
   "metadata": {},
   "outputs": [],
   "source": [
    "def f_XY(x, y):\n",
    "    if (1 <= y <= 6) and (1 <= x-y <=6):\n",
    "        return y*(x-y) / 441\n",
    "    else:\n",
    "        return 0"
   ]
  },
  {
   "cell_type": "code",
   "execution_count": 76,
   "metadata": {},
   "outputs": [],
   "source": [
    "XY = [x_set_2, y_set_2, f_XY]"
   ]
  },
  {
   "cell_type": "code",
   "execution_count": 52,
   "metadata": {},
   "outputs": [],
   "source": [
    "prob_2 = np.array([[f_XY(x_i, y_j) for y_j in y_set_2] for x_i in x_set_2])"
   ]
  },
  {
   "cell_type": "code",
   "execution_count": 53,
   "metadata": {},
   "outputs": [
    {
     "data": {
      "text/plain": [
       "array([[0.002, 0.   , 0.   , 0.   , 0.   , 0.   ],\n",
       "       [0.005, 0.005, 0.   , 0.   , 0.   , 0.   ],\n",
       "       [0.007, 0.009, 0.007, 0.   , 0.   , 0.   ],\n",
       "       [0.009, 0.014, 0.014, 0.009, 0.   , 0.   ],\n",
       "       [0.011, 0.018, 0.02 , 0.018, 0.011, 0.   ],\n",
       "       [0.014, 0.023, 0.027, 0.027, 0.023, 0.014],\n",
       "       [0.   , 0.027, 0.034, 0.036, 0.034, 0.027],\n",
       "       [0.   , 0.   , 0.041, 0.045, 0.045, 0.041],\n",
       "       [0.   , 0.   , 0.   , 0.054, 0.057, 0.054],\n",
       "       [0.   , 0.   , 0.   , 0.   , 0.068, 0.068],\n",
       "       [0.   , 0.   , 0.   , 0.   , 0.   , 0.082]])"
      ]
     },
     "execution_count": 53,
     "metadata": {},
     "output_type": "execute_result"
    }
   ],
   "source": [
    "prob_2"
   ]
  },
  {
   "cell_type": "code",
   "execution_count": 58,
   "metadata": {},
   "outputs": [
    {
     "data": {
      "text/plain": [
       "<function matplotlib.pyplot.show(*args, **kw)>"
      ]
     },
     "execution_count": 58,
     "metadata": {},
     "output_type": "execute_result"
    },
    {
     "data": {
      "image/png": "[encoded data removed]",
      "text/plain": [
       "<Figure size 720x576 with 2 Axes>"
      ]
     },
     "metadata": {
      "needs_background": "light"
     },
     "output_type": "display_data"
    }
   ],
   "source": [
    "fig = plt.figure(figsize=(10,8))\n",
    "ax = fig.add_subplot(111)\n",
    "c=ax.pcolor(prob_2)\n",
    "ax.set_xticks(np.arange(prob_2.shape[1])+0.5, minor=False)\n",
    "ax.set_yticks(np.arange(prob_2.shape[0])+0.5, minor=False)\n",
    "ax.set_xticklabels(np.arange(1,7), minor=False)\n",
    "ax.set_yticklabels(np.arange(2,13), minor=False)\n",
    "# y軸反転下が大きくなるように\n",
    "ax.invert_yaxis()\n",
    "ax.xaxis.tick_top()\n",
    "fig.colorbar(c,ax=ax)\n",
    "plt.show"
   ]
  },
  {
   "cell_type": "code",
   "execution_count": 62,
   "metadata": {},
   "outputs": [
    {
     "name": "stdout",
     "output_type": "stream",
     "text": [
      "True\n",
      "True\n"
     ]
    }
   ],
   "source": [
    "# 確率が0以上か確かめる\n",
    "print(np.all(prob_2 >= 0))\n",
    "# 確率の総和が1か\n",
    "print(np.sum(prob_2)==1.0)"
   ]
  },
  {
   "cell_type": "markdown",
   "metadata": {},
   "source": [
    "#### 周辺確率分布\n",
    "同時確率分布においてどちらかの変数についてのみ分布を知りたい場合に用いる.\n",
    "→$f_{XY}$に取りうるYの値を全て足し合わせることによってもとまる\n",
    "\n",
    "$$\n",
    "f_X(x)=\\sum_{k}f_{XY}(x,y_k)\n",
    "$$\n",
    "\n",
    "こうすることで確率変数Xのみが残ることになるこれを特にXの**周辺確率分布**という"
   ]
  },
  {
   "cell_type": "code",
   "execution_count": 69,
   "metadata": {},
   "outputs": [],
   "source": [
    "def f_X(x):\n",
    "    '''\n",
    "    Xの周辺確率分布を求める関数\n",
    "    '''\n",
    "    return np.sum([f_XY(x, y_k) for y_k in y_set_2])\n",
    "\n",
    "def f_Y(y):\n",
    "    '''\n",
    "    Yの周辺確率分布を求める関数\n",
    "    '''\n",
    "    return np.sum([f_XY(x_k, y) for x_k in x_set_2])"
   ]
  },
  {
   "cell_type": "code",
   "execution_count": 70,
   "metadata": {},
   "outputs": [],
   "source": [
    "X_2 = [x_set_2, f_X]\n",
    "Y_2 = [y_set_2, f_Y]"
   ]
  },
  {
   "cell_type": "markdown",
   "metadata": {},
   "source": [
    "ここでX_2,Y_2の周辺確率分布を見てみる."
   ]
  },
  {
   "cell_type": "code",
   "execution_count": 72,
   "metadata": {},
   "outputs": [
    {
     "data": {
      "image/png": "[encoded data removed]",
      "text/plain": [
       "<Figure size 864x288 with 2 Axes>"
      ]
     },
     "metadata": {
      "needs_background": "light"
     },
     "output_type": "display_data"
    }
   ],
   "source": [
    "prob_x = np.array([f_X(x_k) for x_k in x_set_2])\n",
    "prob_y = np.array([f_Y(y_k) for y_k in y_set_2])\n",
    "\n",
    "fig = plt.figure(figsize=(12,4))\n",
    "ax1=fig.add_subplot(121)\n",
    "ax2=fig.add_subplot(122)\n",
    "\n",
    "ax1.bar(x_set_2,prob_x)\n",
    "ax1.set_title(\"Xの周辺分布\")\n",
    "ax1.set_xlabel(\"X\")\n",
    "ax1.set_ylabel(\"確率\")\n",
    "ax1.set_xticks(x_set_2)\n",
    "\n",
    "ax2.bar(y_set_2,prob_y)\n",
    "ax2.set_title(\"Yの周辺分布\")\n",
    "ax2.set_xlabel(\"Y\")\n",
    "ax2.set_ylabel(\"確率\")\n",
    "ax2.set_xticks(y_set_2)\n",
    "\n",
    "plt.show()\n",
    "# 日本語拡張入れてなかった…"
   ]
  },
  {
   "cell_type": "markdown",
   "metadata": {},
   "source": [
    "### 5.2.2 2次元の離散型確率変数の指標\n",
    "一次元同様定義できる. \n",
    "\n",
    "#### 期待値\n",
    "Xの期待値\n",
    "$$\n",
    "\\mu_X = E(X) = \\sum_{i} \\sum_{j}x_if_{XY}(x_i, y_j)\n",
    "$$"
   ]
  },
  {
   "cell_type": "code",
   "execution_count": 73,
   "metadata": {},
   "outputs": [
    {
     "data": {
      "text/plain": [
       "8.666666666666666"
      ]
     },
     "execution_count": 73,
     "metadata": {},
     "output_type": "execute_result"
    }
   ],
   "source": [
    "np.sum([x_i * f_XY(x_i, y_j) for x_i in x_set_2 for y_j in y_set_2])"
   ]
  },
  {
   "cell_type": "markdown",
   "metadata": {},
   "source": [
    "X,Yの関数g(X,Y)の期待値は次のように定義できる\n",
    "\n",
    "$$\n",
    "E(g(X,Y)) = \\sum_{i} \\sum_{j}g(x_i,y_i)f_{XY}(x_i, y_j)\n",
    "$$"
   ]
  },
  {
   "cell_type": "code",
   "execution_count": 74,
   "metadata": {},
   "outputs": [],
   "source": [
    "def E(XY, g):\n",
    "    _x_set, _y_set, f_XY = XY\n",
    "    return np.sum([g(x_i, y_j) * f_XY(x_i, y_j) for x_i in _x_set for y_j in _y_set])"
   ]
  },
  {
   "cell_type": "code",
   "execution_count": 77,
   "metadata": {},
   "outputs": [
    {
     "data": {
      "text/plain": [
       "8.666666666666666"
      ]
     },
     "execution_count": 77,
     "metadata": {},
     "output_type": "execute_result"
    }
   ],
   "source": [
    "mean_X = E(XY, lambda x, y:x)\n",
    "mean_X"
   ]
  },
  {
   "cell_type": "code",
   "execution_count": 78,
   "metadata": {},
   "outputs": [
    {
     "data": {
      "text/plain": [
       "4.333333333333333"
      ]
     },
     "execution_count": 78,
     "metadata": {},
     "output_type": "execute_result"
    }
   ],
   "source": [
    "mean_Y = E(XY, lambda x, y:y)\n",
    "mean_Y"
   ]
  },
  {
   "cell_type": "markdown",
   "metadata": {},
   "source": [
    "#### 期待値の線形性\n",
    "$$\n",
    "E(aX+bY) = aE(X)+bE(Y)  \\\\\n",
    "a, b \\in R\n",
    "$$\n",
    "\n",
    "実数は外に出せる"
   ]
  },
  {
   "cell_type": "code",
   "execution_count": 80,
   "metadata": {},
   "outputs": [
    {
     "data": {
      "text/plain": [
       "30.333333333333332"
      ]
     },
     "execution_count": 80,
     "metadata": {},
     "output_type": "execute_result"
    }
   ],
   "source": [
    "E(XY, lambda x, y:2*x+3*y)"
   ]
  },
  {
   "cell_type": "code",
   "execution_count": 81,
   "metadata": {},
   "outputs": [
    {
     "data": {
      "text/plain": [
       "30.333333333333332"
      ]
     },
     "execution_count": 81,
     "metadata": {},
     "output_type": "execute_result"
    }
   ],
   "source": [
    "2*mean_X+3*mean_Y"
   ]
  },
  {
   "cell_type": "markdown",
   "metadata": {},
   "source": [
    "#### 分散\n",
    "Xの分散\n",
    "$$\n",
    "\\sigma_X = V(X) = \\sum_{i} \\sum_{j}(x_i - \\mu_X)^2f_{XY}(x_i, y_j)\n",
    "$$"
   ]
  },
  {
   "cell_type": "code",
   "execution_count": 82,
   "metadata": {},
   "outputs": [
    {
     "data": {
      "text/plain": [
       "4.444444444444444"
      ]
     },
     "execution_count": 82,
     "metadata": {},
     "output_type": "execute_result"
    }
   ],
   "source": [
    "np.sum([(x_i-mean_X)**2*f_XY(x_i, y_j) for x_i in x_set_2 for y_j in y_set_2])"
   ]
  },
  {
   "cell_type": "markdown",
   "metadata": {},
   "source": [
    "g(X,Y)について一般化すると\n",
    "$$\n",
    "V(g(X,Y)) = \\sum_{i} \\sum_{j}g(x_i, y_j)-E(g(X,Y)))^2f_{XY}(x_i,y_i)\n",
    "$$"
   ]
  },
  {
   "cell_type": "code",
   "execution_count": 85,
   "metadata": {},
   "outputs": [],
   "source": [
    "def V(XY, g):\n",
    "    _x_set, _y_set, f_XY = XY\n",
    "    _mean=E(XY, g)\n",
    "    return np.sum((g(x_i, y_j)-_mean)**2*f_XY(x_i, y_j) for x_i in _x_set for y_j in _y_set)"
   ]
  },
  {
   "cell_type": "code",
   "execution_count": 86,
   "metadata": {},
   "outputs": [
    {
     "name": "stderr",
     "output_type": "stream",
     "text": [
      "/Users/Zi/anaconda3/envs/jupyter-env/lib/python3.7/site-packages/ipykernel_launcher.py:4: DeprecationWarning: Calling np.sum(generator) is deprecated, and in the future will give a different result. Use np.sum(np.fromiter(generator)) or the python sum builtin instead.\n",
      "  after removing the cwd from sys.path.\n"
     ]
    },
    {
     "data": {
      "text/plain": [
       "4.444444444444444"
      ]
     },
     "execution_count": 86,
     "metadata": {},
     "output_type": "execute_result"
    }
   ],
   "source": [
    "var_X = V(XY, g=lambda x,y: x)\n",
    "var_X"
   ]
  },
  {
   "cell_type": "code",
   "execution_count": 87,
   "metadata": {},
   "outputs": [
    {
     "name": "stderr",
     "output_type": "stream",
     "text": [
      "/Users/Zi/anaconda3/envs/jupyter-env/lib/python3.7/site-packages/ipykernel_launcher.py:4: DeprecationWarning: Calling np.sum(generator) is deprecated, and in the future will give a different result. Use np.sum(np.fromiter(generator)) or the python sum builtin instead.\n",
      "  after removing the cwd from sys.path.\n"
     ]
    },
    {
     "data": {
      "text/plain": [
       "2.222222222222222"
      ]
     },
     "execution_count": 87,
     "metadata": {},
     "output_type": "execute_result"
    }
   ],
   "source": [
    "var_Y = V(XY, g=lambda x,y: y)\n",
    "var_Y"
   ]
  },
  {
   "cell_type": "markdown",
   "metadata": {},
   "source": [
    "#### 共分散\n",
    "これにより2つの確率変数の間の相関をみることができる\n",
    "\n",
    "$$\n",
    "\\sigma_{XY}=Cov(X,Y)=\\sum_{i} \\sum_{j}(x_i-\\mu_X)(y_i-\\mu_Y)f_XY(x_i,y_j)\n",
    "$$\n"
   ]
  },
  {
   "cell_type": "code",
   "execution_count": 92,
   "metadata": {},
   "outputs": [],
   "source": [
    "def Cov(XY):\n",
    "    _x_set, _y_set, f_XY = XY\n",
    "    _mean_X = E(XY, lambda x,y: x)\n",
    "    _mean_Y = E(XY, lambda x,y: y)\n",
    "    return np.sum([(x_i-_mean_X)*(y_j-_mean_Y)*f_XY(x_i, y_j) for x_i in _x_set for y_j in _y_set])"
   ]
  },
  {
   "cell_type": "code",
   "execution_count": 93,
   "metadata": {},
   "outputs": [
    {
     "data": {
      "text/plain": [
       "2.222222222222222"
      ]
     },
     "execution_count": 93,
     "metadata": {},
     "output_type": "execute_result"
    }
   ],
   "source": [
    "cov_xy = Cov(XY)\n",
    "cov_xy"
   ]
  },
  {
   "cell_type": "markdown",
   "metadata": {},
   "source": [
    "#### 分散の公式\n",
    "$$\n",
    "V(aX+bY) = a^2V(X)+a^2V(Y)+2abCov(X,Y)   \\\\\n",
    "a, b \\in R\n",
    "$$\n",
    "\n",
    "これも同様２乗で出せるが項が増えるので注意. "
   ]
  },
  {
   "cell_type": "code",
   "execution_count": 94,
   "metadata": {},
   "outputs": [
    {
     "name": "stderr",
     "output_type": "stream",
     "text": [
      "/Users/Zi/anaconda3/envs/jupyter-env/lib/python3.7/site-packages/ipykernel_launcher.py:4: DeprecationWarning: Calling np.sum(generator) is deprecated, and in the future will give a different result. Use np.sum(np.fromiter(generator)) or the python sum builtin instead.\n",
      "  after removing the cwd from sys.path.\n"
     ]
    },
    {
     "data": {
      "text/plain": [
       "64.44444444444443"
      ]
     },
     "execution_count": 94,
     "metadata": {},
     "output_type": "execute_result"
    }
   ],
   "source": [
    "V(XY, lambda x,y: 2*x+3*y)"
   ]
  },
  {
   "cell_type": "code",
   "execution_count": 96,
   "metadata": {},
   "outputs": [
    {
     "data": {
      "text/plain": [
       "64.44444444444443"
      ]
     },
     "execution_count": 96,
     "metadata": {},
     "output_type": "execute_result"
    }
   ],
   "source": [
    "4 * var_X+9*var_Y+12*cov_xy"
   ]
  },
  {
   "cell_type": "markdown",
   "metadata": {},
   "source": [
    "#### 相関係数\n",
    "共分散をそれぞれの標準偏差によって割ることでもとまる\n",
    "\n",
    "$$\n",
    "\\rho_{XY}=\\rho(X,Y)=\\frac{\\sigma_{XY}}{\\sigma_X \\sigma_Y}\n",
    "$$"
   ]
  },
  {
   "cell_type": "code",
   "execution_count": 97,
   "metadata": {},
   "outputs": [
    {
     "data": {
      "text/plain": [
       "0.7071067811865475"
      ]
     },
     "execution_count": 97,
     "metadata": {},
     "output_type": "execute_result"
    }
   ],
   "source": [
    "cov_xy/np.sqrt(var_X * var_Y)"
   ]
  },
  {
   "cell_type": "code",
   "execution_count": null,
   "metadata": {},
   "outputs": [],
   "source": []
  }
 ],
 "metadata": {
  "kernelspec": {
   "display_name": "Python 3",
   "language": "python",
   "name": "python3"
  },
  "language_info": {
   "codemirror_mode": {
    "name": "ipython",
    "version": 3
   },
   "file_extension": ".py",
   "mimetype": "text/x-python",
   "name": "python",
   "nbconvert_exporter": "python",
   "pygments_lexer": "ipython3",
   "version": "3.7.2"
  }
 },
 "nbformat": 4,
 "nbformat_minor": 2
}
